{
 "cells": [
  {
   "cell_type": "markdown",
   "metadata": {
    "slideshow": {
     "slide_type": "slide"
    }
   },
   "source": [
    "# Project Management with GitHub"
   ]
  },
  {
   "cell_type": "markdown",
   "metadata": {
    "slideshow": {
     "slide_type": "subslide"
    }
   },
   "source": [
    "## Spyder\n",
    "\n",
    "We will assume that you use Spyder (possibly not yet for the homework exercises, but for the course project). While Jupyter Notebooks are useful for presenting and working on relatively simple tasks, it is useful to use an integrated development environment (IDE) such as Spyder for larger projects. PyCharm, an alternative to Spyder, offers a GitHub integration. If you use PyCharm, you therefore need not follow the following steps (but look up how you can use Github in PyCharm)."
   ]
  },
  {
   "cell_type": "markdown",
   "metadata": {
    "slideshow": {
     "slide_type": "subslide"
    }
   },
   "source": [
    "## Github\n",
    "\n",
    "When working on a project in a team, it is important for each team member to\n",
    "\n",
    "* have access to the files comprising the project\n",
    "* be able to make changes to the contents of the project\n",
    "* be able to track and revert changes to the project (version control)\n",
    "\n",
    "GitHub fulfills all these requirements. Projects can be made available only to you and your team members (__private repositories__) or to the general public (__public repositories__)."
   ]
  },
  {
   "cell_type": "markdown",
   "metadata": {
    "slideshow": {
     "slide_type": "subslide"
    }
   },
   "source": [
    "### GitHub Desktop\n",
    "GitHub Desktop is an application that enables the communication between your local project files and the projects' representation on GitHub."
   ]
  },
  {
   "cell_type": "markdown",
   "metadata": {
    "slideshow": {
     "slide_type": "subslide"
    }
   },
   "source": [
    "#### Setting up GitHub Desktop\n",
    "\n",
    "Go to https://desktop.github.com and download the installer for Windows or MacOS, respectively.\n",
    "<center>\n",
    "\n",
    "<img src=\"images/githubdesktop.png\" align=\"center\" width=\"1200\" />\n",
    "</center>"
   ]
  },
  {
   "cell_type": "markdown",
   "metadata": {
    "slideshow": {
     "slide_type": "subslide"
    }
   },
   "source": [
    "If you are using Windows, run the file GitHubDesktopSetup.exe, if you are using MacOS, unzip the file GitHubDesktop.zip and launch GitHub Desktop.\n",
    "\n",
    "<center>\n",
    "\n",
    "<img src=\"images/githubdesktoplaunch.png\" align=\"center\" width=\"1000\" />\n",
    "</center>\n"
   ]
  },
  {
   "cell_type": "markdown",
   "metadata": {
    "slideshow": {
     "slide_type": "subslide"
    }
   },
   "source": [
    "* If you already have a GitHub account, click `Sign in to GitHub.com`, and sign in with your account.\n",
    "* Otherwise click `Create your free account`, create a new account on the GitHub website, and then click `Sign in to GitHub.com`, and sign in with your account. \n",
    "* You will see a window `Configure Git`. Confirm that the username and email address are accurate and click `Continue`.\n",
    "* Untick the box in the next window if you don't want to share your usage data with GitHub and click `Finish`.\n",
    "* In the window showing `Let’s get started!` click `Create a New Repository on your Hard Drive...`"
   ]
  },
  {
   "cell_type": "markdown",
   "metadata": {
    "slideshow": {
     "slide_type": "subslide"
    }
   },
   "source": [
    "<center>\n",
    "\n",
    "<img src=\"images/githubdesktopnewproject.png\" align=\"center\" width=\"600\" />\n",
    "</center>\n",
    "\n",
    "* Choose a name for your project and write a short description\n",
    "* If you would like to create your project in a different location than the `Local path` shown, click `Choose...` and navigate to where you want to save your project.\n",
    "* Choose `Python` in the `Git ignore` drop-down list. This creates a file `.gitignore` that tells GitHub which files should not be version controlled.\n",
    "* There is no need to change the `License` settings for now.\n",
    "* Click `Create repository`."
   ]
  },
  {
   "cell_type": "markdown",
   "metadata": {
    "slideshow": {
     "slide_type": "subslide"
    }
   },
   "source": [
    "### Using the GitHub repository for a project in Spyder\n",
    "\n",
    "* Launch Spyder direcly or from the Anaconda Navigator\n",
    "* Choose `New Project...` in the Projects menu.\n",
    "\n",
    "<center>\n",
    "\n",
    "<img src=\"images/spydernewproject.png\" align=\"center\" width=\"500\" />\n",
    "</center>\n",
    "\n",
    "* In the Window `Create new project` choose `Existing directory` and navigate to the location of the repository you previously created.\n",
    "* Click `Create`.\n",
    "\n",
    "* Spyder's project pane shows the new project containing a folder `.git` and the files `.gitattributes` and `.gitignore`."
   ]
  },
  {
   "cell_type": "markdown",
   "metadata": {
    "slideshow": {
     "slide_type": "subslide"
    }
   },
   "source": [
    "* Create a new file, write some Python code, e.g.\n",
    "```\n",
    "print('Hello world!')\n",
    "```\n",
    "* Save the file in the project folder."
   ]
  },
  {
   "cell_type": "markdown",
   "metadata": {
    "slideshow": {
     "slide_type": "subslide"
    }
   },
   "source": [
    "* You should now see the file in GitHub Desktop in the left column under `Changes`.\n",
    "\n",
    "<center>\n",
    "<img src=\"images/githubdesktopcommit.png\" align=\"center\" width=\"1100\" />\n",
    "</center>"
   ]
  },
  {
   "cell_type": "markdown",
   "metadata": {
    "slideshow": {
     "slide_type": "subslide"
    }
   },
   "source": [
    "* Click `Commit to main` to include the file in the version control system on your computer. This creates a new snapshot of the repo (short for repository). By clicking `History`, you can see a list of all the commits. You can later return to any of the snapshots taken during the evolution of your repo by reverting those commits in reverse chronological order. Whenever you make changes to, create or delete files, you can commit those.\n",
    "* The below figure (from https://git-scm.com/book/en/v2/Git-Branching-Branches-in-a-Nutshell ) illustrates how different snapshots of a repo are linked.\n",
    "<center>\n",
    "<img src=\"images/commits-and-parents.png\" align=\"center\" width=\"900\" />\n",
    "</center>"
   ]
  },
  {
   "cell_type": "markdown",
   "metadata": {
    "slideshow": {
     "slide_type": "subslide"
    }
   },
   "source": [
    "<center>\n",
    "\n",
    "<img src=\"images/githubdesktoppublish.png\" align=\"center\" width=\"700\" />\n",
    "</center>\n",
    "\n",
    "* Click `Publish repository` such that your repository is included in your GitHub account. Keep the `Keep this code private` box checked so that the project remains available only to you and people you invite to your project.\n",
    "* In the future, when you create or modify files, commit them and click `Push origin` to update the repository on GitHub, which is referred to as `origin`."
   ]
  },
  {
   "cell_type": "markdown",
   "metadata": {
    "slideshow": {
     "slide_type": "subslide"
    }
   },
   "source": [
    "### Sharing your GitHub repository\n",
    "If you work in a team, you  will want to share your repository with your team members. To do so, click your repository on your site at github.com, go to `Settings` and there to `Manage access`. Click `Invite a collaborator`, type the user name, full name, or email address of the person with whom you want to share the project, and click the user name in the results.\n",
    "<center>\n",
    "\n",
    "<img src=\"images/githubinvite.png\" align=\"center\" width=\"500\" />\n",
    "</center>\n",
    "\n",
    "The user you invited will receive an email and get access to the repository after accepting the inviation."
   ]
  },
  {
   "cell_type": "markdown",
   "metadata": {
    "slideshow": {
     "slide_type": "subslide"
    }
   },
   "source": [
    "### Importing an existing GitHub repo to GitHub Desktop and Spyder\n",
    "If you have a repo on GitHub (e.g., one you just got invited to), you need to clone it, i.e., to create a copy of the project on your computer, before you can work on it. In GitHub Desktop, choose  `Clone Repository...` from the `File` menu. If you click the `refresh` button, the list of all of your (local and remote) repos will be update. Click on the repo you would like to clone and, then `Clone` to create a local copy of the repo.\n",
    "<center>\n",
    "\n",
    "<img src=\"images/githubdesktopclone.png\" align=\"center\" width=\"680\" />\n",
    "</center>\n"
   ]
  },
  {
   "cell_type": "markdown",
   "metadata": {
    "slideshow": {
     "slide_type": "subslide"
    }
   },
   "source": [
    "To work on the cloned repo in Spyder, go to `Projects->New Project...`, choose `Existing directory`, navigate to the folder in which you saved your cloned repo, and click `Create`. To avoid committing unwanted files after making changes to the project, you will need a `.gitignore` file again. Shouldn't that file exist yet in the cloned repo, it is probably easiest to copy it from a previously created repo to the current one. "
   ]
  },
  {
   "cell_type": "markdown",
   "metadata": {
    "slideshow": {
     "slide_type": "subslide"
    }
   },
   "source": [
    "### Branching\n",
    "Branching is important for version control, in particular if you work on a project with collaborators who work on it simultaneously. By default, all work takes place in the branch __master__ .To create a new branch in GitHub Desktop, click `Current branch` and, in the window that opens, `New branch`. \n",
    "<center>\n",
    "\n",
    "<img src=\"images/githubdesktopnewbranch.png\" align=\"center\" width=\"600\" />\n",
    "</center>\n",
    "\n",
    "You will be asked to assign a name to the new branch. After that, click `Publish branch` so that the branch exists not only on your computer but also on GitHub. "
   ]
  },
  {
   "cell_type": "markdown",
   "metadata": {
    "slideshow": {
     "slide_type": "subslide"
    }
   },
   "source": [
    "### Merging branches\n",
    "\n",
    "When you would like changes to the project to be reflected in the master branch, merge your branch with the master branch. To do so, go to the master branch and select `Branch->Merge into current branch...`. Choose the branch you would like to merge into the master branch and click the button at the bottom to do so. After that, click `Push origin` so that the merge is reflected in your remote repo on GitHub.\n",
    "<center>\n",
    "\n",
    "<img src=\"images/githubdesktopmerge.png\" align=\"center\" width=\"680\" />\n",
    "</center>"
   ]
  }
 ],
 "metadata": {
  "kernelspec": {
   "display_name": "Python 3",
   "language": "python",
   "name": "python3"
  },
  "language_info": {
   "codemirror_mode": {
    "name": "ipython",
    "version": 3
   },
   "file_extension": ".py",
   "mimetype": "text/x-python",
   "name": "python",
   "nbconvert_exporter": "python",
   "pygments_lexer": "ipython3",
   "version": "3.7.7"
  },
  "varInspector": {
   "cols": {
    "lenName": 16,
    "lenType": 16,
    "lenVar": 40
   },
   "kernels_config": {
    "python": {
     "delete_cmd_postfix": "",
     "delete_cmd_prefix": "del ",
     "library": "var_list.py",
     "varRefreshCmd": "print(var_dic_list())"
    },
    "r": {
     "delete_cmd_postfix": ") ",
     "delete_cmd_prefix": "rm(",
     "library": "var_list.r",
     "varRefreshCmd": "cat(var_dic_list()) "
    }
   },
   "types_to_exclude": [
    "module",
    "function",
    "builtin_function_or_method",
    "instance",
    "_Feature"
   ],
   "window_display": false
  }
 },
 "nbformat": 4,
 "nbformat_minor": 4
}
