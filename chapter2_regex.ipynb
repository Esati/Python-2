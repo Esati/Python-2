{
 "cells": [
  {
   "cell_type": "markdown",
   "metadata": {
    "slideshow": {
     "slide_type": "slide"
    }
   },
   "source": [
    "# Regular expressions"
   ]
  },
  {
   "cell_type": "markdown",
   "metadata": {
    "slideshow": {
     "slide_type": "subslide"
    }
   },
   "source": [
    "Regular expressions (also called RE or regex) describe string patterns used to find matches in strings. I.e., you can use RE to find out whether a string matches a given pattern, or whether a pattern is contained somewhere in the string.\n",
    "\n",
    "The module `re` implements regular expressions in Python."
   ]
  },
  {
   "cell_type": "code",
   "execution_count": 1,
   "metadata": {
    "slideshow": {
     "slide_type": "fragment"
    }
   },
   "outputs": [],
   "source": [
    "import re"
   ]
  },
  {
   "cell_type": "markdown",
   "metadata": {
    "slideshow": {
     "slide_type": "subslide"
    }
   },
   "source": [
    "## Functions and methods for finding patterns in a string\n",
    "\n",
    "`re` provides functions and methods of the same name and almost identical functionality. \n",
    "Those used to find patterns in a string are\n",
    "\n",
    "* `match` to find out whether the RE matches the beginning of the string\n",
    "* `search` to find out whether the RE matches anywhere within the string\n",
    "* `findall` to find all substrings matched by the RE and return them in a list\n",
    "* `finditer` similar to `findall` except that it returns the found substrings as an iterator"
   ]
  },
  {
   "cell_type": "markdown",
   "metadata": {
    "slideshow": {
     "slide_type": "subslide"
    }
   },
   "source": [
    "## Matching characters\n",
    "\n",
    "Most characters match themselves. Let us try this using the functions `match` and `search` to find a uniquely defined string of letters."
   ]
  },
  {
   "cell_type": "markdown",
   "metadata": {
    "slideshow": {
     "slide_type": "subslide"
    }
   },
   "source": [
    "The function `search` takes two required arguments, `pattern` and `string`. There is also a keyword argument `flags` that we will consider later. If a match has been found, a `Match` object is returned. It contains the tuple `span` containing the indices of the `start` and `end` of the first occurrence of the pattern in the string, and the string `match` containing the first substring that matched the pattern."
   ]
  },
  {
   "cell_type": "code",
   "execution_count": 2,
   "metadata": {
    "slideshow": {
     "slide_type": "fragment"
    }
   },
   "outputs": [
    {
     "name": "stdout",
     "output_type": "stream",
     "text": [
      "<re.Match object; span=(10, 14), match='test'>\n"
     ]
    }
   ],
   "source": [
    "search_test = re.search(r'test', 'this is a test')\n",
    "print(search_test)"
   ]
  },
  {
   "cell_type": "markdown",
   "metadata": {
    "slideshow": {
     "slide_type": "fragment"
    }
   },
   "source": [
    "The `r` in front of the `pattern` makes Python interpret the pattern as a raw string instead of interpreting special characters the way they usually are in Python. E.g., the backslash `\\` is an escape character, i.e., it doesn't represent itself but instead is used to help express special characters, e.g., `\\n` for a new line. Using the patterns as raw strings makes working with `re` easier."
   ]
  },
  {
   "cell_type": "markdown",
   "metadata": {
    "slideshow": {
     "slide_type": "subslide"
    }
   },
   "source": [
    "The function `match` takes the same arguments as `search` but returns a `Match` object only if the pattern matches the beginning of the string. Otherwise, the function returns `None`."
   ]
  },
  {
   "cell_type": "code",
   "execution_count": 4,
   "metadata": {
    "slideshow": {
     "slide_type": "fragment"
    }
   },
   "outputs": [
    {
     "name": "stdout",
     "output_type": "stream",
     "text": [
      "None\n"
     ]
    }
   ],
   "source": [
    "match_test1 = re.match(r'test', 'this is a test')\n",
    "print(match_test1)"
   ]
  },
  {
   "cell_type": "code",
   "execution_count": 5,
   "metadata": {
    "slideshow": {
     "slide_type": "fragment"
    }
   },
   "outputs": [
    {
     "name": "stdout",
     "output_type": "stream",
     "text": [
      "<re.Match object; span=(0, 4), match='test'>\n"
     ]
    }
   ],
   "source": [
    "match_test2 = re.match(r'test', 'test is a test')\n",
    "print(match_test2)"
   ]
  },
  {
   "cell_type": "markdown",
   "metadata": {
    "slideshow": {
     "slide_type": "subslide"
    }
   },
   "source": [
    "If we just want to know if the pattern has been found, we can exploit the fact that the Boolean of any object will evaluate to `True` whereas `None` evaluates to `False`."
   ]
  },
  {
   "cell_type": "code",
   "execution_count": 6,
   "metadata": {
    "slideshow": {
     "slide_type": "fragment"
    }
   },
   "outputs": [],
   "source": [
    "def match_found(matchobject):\n",
    "    if matchobject: \n",
    "        print('pattern found')\n",
    "    else: \n",
    "        print('pattern not found')"
   ]
  },
  {
   "cell_type": "code",
   "execution_count": 7,
   "metadata": {
    "slideshow": {
     "slide_type": "fragment"
    }
   },
   "outputs": [
    {
     "name": "stdout",
     "output_type": "stream",
     "text": [
      "pattern not found\n",
      "pattern found\n"
     ]
    }
   ],
   "source": [
    "match_found(match_test1)\n",
    "match_found(match_test2)"
   ]
  },
  {
   "cell_type": "markdown",
   "metadata": {
    "slideshow": {
     "slide_type": "subslide"
    }
   },
   "source": [
    "Match objects offer some methods: \n",
    "\n",
    "- `group` returns the matched string, \n",
    "- `span` the tuple containing the start and end positions of the match, \n",
    "- `start` and `end` the start and end positions separately. "
   ]
  },
  {
   "cell_type": "code",
   "execution_count": 8,
   "metadata": {
    "slideshow": {
     "slide_type": "fragment"
    }
   },
   "outputs": [
    {
     "data": {
      "text/plain": [
       "'test'"
      ]
     },
     "execution_count": 8,
     "metadata": {},
     "output_type": "execute_result"
    }
   ],
   "source": [
    "match_test2.group()"
   ]
  },
  {
   "cell_type": "code",
   "execution_count": 9,
   "metadata": {
    "slideshow": {
     "slide_type": "fragment"
    }
   },
   "outputs": [
    {
     "data": {
      "text/plain": [
       "(0, 4)"
      ]
     },
     "execution_count": 9,
     "metadata": {},
     "output_type": "execute_result"
    }
   ],
   "source": [
    "match_test2.span()"
   ]
  },
  {
   "cell_type": "code",
   "execution_count": 10,
   "metadata": {
    "slideshow": {
     "slide_type": "fragment"
    }
   },
   "outputs": [
    {
     "data": {
      "text/plain": [
       "0"
      ]
     },
     "execution_count": 10,
     "metadata": {},
     "output_type": "execute_result"
    }
   ],
   "source": [
    "match_test2.start()"
   ]
  },
  {
   "cell_type": "code",
   "execution_count": 11,
   "metadata": {
    "slideshow": {
     "slide_type": "fragment"
    }
   },
   "outputs": [
    {
     "data": {
      "text/plain": [
       "4"
      ]
     },
     "execution_count": 11,
     "metadata": {},
     "output_type": "execute_result"
    }
   ],
   "source": [
    "match_test2.end()"
   ]
  },
  {
   "cell_type": "markdown",
   "metadata": {
    "slideshow": {
     "slide_type": "subslide"
    }
   },
   "source": [
    "`findall` returns a list of all substrings matching the pattern."
   ]
  },
  {
   "cell_type": "code",
   "execution_count": 12,
   "metadata": {
    "slideshow": {
     "slide_type": "fragment"
    }
   },
   "outputs": [
    {
     "data": {
      "text/plain": [
       "['test', 'test']"
      ]
     },
     "execution_count": 12,
     "metadata": {},
     "output_type": "execute_result"
    }
   ],
   "source": [
    "findall_test1 = re.findall(r'test', 'test is a test')\n",
    "findall_test1"
   ]
  },
  {
   "cell_type": "code",
   "execution_count": 13,
   "metadata": {
    "slideshow": {
     "slide_type": "fragment"
    }
   },
   "outputs": [
    {
     "data": {
      "text/plain": [
       "[]"
      ]
     },
     "execution_count": 13,
     "metadata": {},
     "output_type": "execute_result"
    }
   ],
   "source": [
    "findall_test2 = re.findall(r'it', 'test is a test')\n",
    "findall_test2"
   ]
  },
  {
   "cell_type": "markdown",
   "metadata": {
    "slideshow": {
     "slide_type": "subslide"
    }
   },
   "source": [
    "We wouldn't have needed `re` for what we have done so far (see, e.g., below)."
   ]
  },
  {
   "cell_type": "code",
   "execution_count": 14,
   "metadata": {
    "slideshow": {
     "slide_type": "fragment"
    }
   },
   "outputs": [
    {
     "data": {
      "text/plain": [
       "True"
      ]
     },
     "execution_count": 14,
     "metadata": {},
     "output_type": "execute_result"
    }
   ],
   "source": [
    "'test' in 'this is a test'"
   ]
  },
  {
   "cell_type": "markdown",
   "metadata": {
    "slideshow": {
     "slide_type": "fragment"
    }
   },
   "source": [
    "We will next consider regular expressions accepting more than one specific substring."
   ]
  },
  {
   "cell_type": "markdown",
   "metadata": {
    "slideshow": {
     "slide_type": "slide"
    }
   },
   "source": [
    "# Meta characters\n",
    "\n",
    "Meta characters help us express more advanced patterns than seen above. The meta characters used in `re` are `. ^ $ * + ? { } [ ] \\ | ( )`. To use those as literal characters within a pattern, we need to use the escape character `\\`. E.g., `\\$` expresses that there is a dollar symbol in the pattern, `\\\\` expresses that there is a backslash. We will take a look at all the meta characters in what follows."
   ]
  },
  {
   "cell_type": "markdown",
   "metadata": {
    "slideshow": {
     "slide_type": "subslide"
    }
   },
   "source": [
    "## Character classes\n",
    "\n",
    "If we want to allow more than one possible character at some position within a pattern, we can use character classes. Character classes are defined by square brackets `[]` with an expression for the permissible characters in between."
   ]
  },
  {
   "cell_type": "markdown",
   "metadata": {
    "slideshow": {
     "slide_type": "subslide"
    }
   },
   "source": [
    "Suppose we want the regular expression to match any words `h_ll_` where the underscores are replaced with any vowels."
   ]
  },
  {
   "cell_type": "code",
   "execution_count": 15,
   "metadata": {
    "slideshow": {
     "slide_type": "fragment"
    }
   },
   "outputs": [
    {
     "name": "stdout",
     "output_type": "stream",
     "text": [
      "<re.Match object; span=(0, 5), match='hallo'>\n"
     ]
    }
   ],
   "source": [
    "classtest1 = re.search(r'h[aeiou]ll[aeiou]', 'hallo world!')\n",
    "print(classtest1)"
   ]
  },
  {
   "cell_type": "code",
   "execution_count": 16,
   "metadata": {
    "slideshow": {
     "slide_type": "fragment"
    }
   },
   "outputs": [
    {
     "name": "stdout",
     "output_type": "stream",
     "text": [
      "None\n"
     ]
    }
   ],
   "source": [
    "classtest2 = re.search(r'h[aeiou]ll[aeiou]', 'hyllo world!')\n",
    "print(classtest2)"
   ]
  },
  {
   "cell_type": "markdown",
   "metadata": {
    "slideshow": {
     "slide_type": "subslide"
    }
   },
   "source": [
    "We can express a list of permissible characters in a class using `-` so that we don't need to write each such character. Suppose we want to accept any string comprising one small or capitalised letter followed by a digit."
   ]
  },
  {
   "cell_type": "code",
   "execution_count": 17,
   "metadata": {
    "slideshow": {
     "slide_type": "fragment"
    }
   },
   "outputs": [
    {
     "name": "stdout",
     "output_type": "stream",
     "text": [
      "<re.Match object; span=(4, 6), match='o3'>\n"
     ]
    }
   ],
   "source": [
    "classtest3 = re.search(r'[a-zA-Z][0-9]', 'hello3 world!')\n",
    "print(classtest3)"
   ]
  },
  {
   "cell_type": "code",
   "execution_count": 18,
   "metadata": {
    "slideshow": {
     "slide_type": "fragment"
    }
   },
   "outputs": [
    {
     "name": "stdout",
     "output_type": "stream",
     "text": [
      "None\n"
     ]
    }
   ],
   "source": [
    "classtest4 = re.search(r'[a-zA-Z][0-9]', 'hello 4 world!')\n",
    "print(classtest4)"
   ]
  },
  {
   "cell_type": "markdown",
   "metadata": {
    "slideshow": {
     "slide_type": "subslide"
    }
   },
   "source": [
    "Meta characters are not active inside the square brackets of character classes, i.e., we don't need to use the escape character there."
   ]
  },
  {
   "cell_type": "code",
   "execution_count": 19,
   "metadata": {
    "slideshow": {
     "slide_type": "fragment"
    }
   },
   "outputs": [
    {
     "name": "stdout",
     "output_type": "stream",
     "text": [
      "<re.Match object; span=(0, 2), match='$2'>\n"
     ]
    }
   ],
   "source": [
    "classtest5 = re.search(r'[$0-9][0-9]', '$23.42')\n",
    "print(classtest5)"
   ]
  },
  {
   "cell_type": "markdown",
   "metadata": {
    "slideshow": {
     "slide_type": "subslide"
    }
   },
   "source": [
    "### Complementing a character class\n",
    "\n",
    "`^` at the beginning of a character class indicates the complement to what follows, i.e., all characters other than those listed in the class."
   ]
  },
  {
   "cell_type": "code",
   "execution_count": 20,
   "metadata": {
    "slideshow": {
     "slide_type": "fragment"
    }
   },
   "outputs": [
    {
     "name": "stdout",
     "output_type": "stream",
     "text": [
      "None\n"
     ]
    }
   ],
   "source": [
    "classtest6 = re.search(r'[^0-4][0-9]', '42')\n",
    "print(classtest6)"
   ]
  },
  {
   "cell_type": "code",
   "execution_count": 21,
   "metadata": {
    "slideshow": {
     "slide_type": "fragment"
    }
   },
   "outputs": [
    {
     "name": "stdout",
     "output_type": "stream",
     "text": [
      "<re.Match object; span=(0, 2), match='A2'>\n"
     ]
    }
   ],
   "source": [
    "classtest7 = re.search(r'[^0-4][0-9]', 'A2')\n",
    "print(classtest7)"
   ]
  },
  {
   "cell_type": "markdown",
   "metadata": {
    "slideshow": {
     "slide_type": "subslide"
    }
   },
   "source": [
    "## Special sequences\n",
    "\n",
    "`re` offers special sequences representing sets of characters. They can be used instead of their equivalent character classes. There are more such special sequences than we cover here.\n",
    "\n",
    "`\\d` is equivalent to `[0-9]`\n",
    "\n",
    "`\\D` is the complement to `d`, equivalent to `[^0-9]`\n",
    "\n",
    "`\\s` represents the class of whitespace characters `[ \\t\\n\\r\\f\\v]`\n",
    "\n",
    "`\\S` is the complement to `s`, equivalent to `[^ \\t\\n\\r\\f\\v]`\n",
    "\n",
    "`\\w` is equivalent to the class of alphanumeric characters (including the underscore) `[a-zA-Z0-9_]`\n",
    "\n",
    "`\\W` is the complement to `w`, equivalent to `[^a-zA-Z0-9_]`"
   ]
  },
  {
   "cell_type": "markdown",
   "metadata": {
    "slideshow": {
     "slide_type": "subslide"
    }
   },
   "source": [
    "## Repeating things\n",
    "\n",
    "Instead of expecting a character, a sequence of characters, or characters contained in a class, to appear exactly once, we may want to allow different frequencies of their occurrence.\n",
    "\n",
    "`*` indicates that we require the expression in front of it to occur zero or more times.\n",
    "\n",
    "`+` indicates that we require the expression in front of it to occur one or more times.\n",
    "\n",
    "`?` indicates that we require the expression in front of it to occur not at all or only once.\n",
    "\n",
    "`{m, n}` indicates that we require the expression in front of it to occur at least `m` and at most `n` times."
   ]
  },
  {
   "cell_type": "code",
   "execution_count": 22,
   "metadata": {
    "slideshow": {
     "slide_type": "subslide"
    }
   },
   "outputs": [
    {
     "name": "stdout",
     "output_type": "stream",
     "text": [
      "<re.Match object; span=(0, 5), match='hello'>\n"
     ]
    }
   ],
   "source": [
    "repeat1 = re.search(r'hel+o', 'hello world')\n",
    "print(repeat1)"
   ]
  },
  {
   "cell_type": "code",
   "execution_count": 23,
   "metadata": {
    "slideshow": {
     "slide_type": "fragment"
    }
   },
   "outputs": [
    {
     "name": "stdout",
     "output_type": "stream",
     "text": [
      "None\n"
     ]
    }
   ],
   "source": [
    "repeat2 = re.search(r'hel+o', 'heo world')\n",
    "print(repeat2)"
   ]
  },
  {
   "cell_type": "code",
   "execution_count": 24,
   "metadata": {
    "slideshow": {
     "slide_type": "fragment"
    }
   },
   "outputs": [
    {
     "name": "stdout",
     "output_type": "stream",
     "text": [
      "<re.Match object; span=(0, 3), match='heo'>\n"
     ]
    }
   ],
   "source": [
    "repeat3 = re.search(r'hel*o', 'heo world')\n",
    "print(repeat3)"
   ]
  },
  {
   "cell_type": "code",
   "execution_count": 25,
   "metadata": {
    "slideshow": {
     "slide_type": "subslide"
    }
   },
   "outputs": [
    {
     "name": "stdout",
     "output_type": "stream",
     "text": [
      "<re.Match object; span=(0, 6), match='hello?'>\n"
     ]
    }
   ],
   "source": [
    "repeat4 = re.search(r'h[aeiou]+llo[!?!]*', 'hello? world')\n",
    "print(repeat4)"
   ]
  },
  {
   "cell_type": "code",
   "execution_count": 26,
   "metadata": {
    "slideshow": {
     "slide_type": "fragment"
    }
   },
   "outputs": [
    {
     "name": "stdout",
     "output_type": "stream",
     "text": [
      "<re.Match object; span=(0, 5), match='hello'>\n"
     ]
    }
   ],
   "source": [
    "repeat5 = re.search(r'h[aeiou]+llo[!?!]*', 'hello world?')\n",
    "print(repeat5)"
   ]
  },
  {
   "cell_type": "code",
   "execution_count": 27,
   "metadata": {
    "slideshow": {
     "slide_type": "fragment"
    }
   },
   "outputs": [
    {
     "name": "stdout",
     "output_type": "stream",
     "text": [
      "<re.Match object; span=(0, 6), match='hello?'>\n"
     ]
    }
   ],
   "source": [
    "repeat6 = re.search(r'h[aeiou]?llo[!?]?', 'hello?')\n",
    "print(repeat6)"
   ]
  },
  {
   "cell_type": "code",
   "execution_count": 28,
   "metadata": {
    "slideshow": {
     "slide_type": "fragment"
    }
   },
   "outputs": [
    {
     "name": "stdout",
     "output_type": "stream",
     "text": [
      "None\n"
     ]
    }
   ],
   "source": [
    "repeat7 = re.search(r'h[aeiou]?llo', 'heello!')\n",
    "print(repeat7)"
   ]
  },
  {
   "cell_type": "code",
   "execution_count": 29,
   "metadata": {
    "slideshow": {
     "slide_type": "fragment"
    }
   },
   "outputs": [
    {
     "name": "stdout",
     "output_type": "stream",
     "text": [
      "<re.Match object; span=(0, 6), match='helllo'>\n"
     ]
    }
   ],
   "source": [
    "repeat8 = re.search(r'h[aeiou]+l{2,5}o[!?!]*', 'helllo world?')\n",
    "print(repeat8)"
   ]
  },
  {
   "cell_type": "markdown",
   "metadata": {
    "slideshow": {
     "slide_type": "subslide"
    }
   },
   "source": [
    "## The meta characters `.`, `|`, `^`, and `$`\n",
    "\n",
    "`.` matches any character other than a newline (unless the `DOTALL` flag is set, in which case the newline character is also matched; see later).\n",
    "\n",
    "`|` is the `or` operator.\n",
    "\n",
    "`^` matches at the beginning of the string, or at the beginning of lines if the `MULTILINE` flag has been set (see later).\n",
    "\n",
    "`$` matches at the end of a string or a position followed by a new line character.\n"
   ]
  },
  {
   "cell_type": "code",
   "execution_count": 30,
   "metadata": {
    "slideshow": {
     "slide_type": "subslide"
    }
   },
   "outputs": [
    {
     "name": "stdout",
     "output_type": "stream",
     "text": [
      "<re.Match object; span=(0, 13), match='Hello a world'>\n"
     ]
    }
   ],
   "source": [
    "dot1 = re.search(r'Hello...world','Hello a world!')\n",
    "print(dot1)"
   ]
  },
  {
   "cell_type": "code",
   "execution_count": 31,
   "metadata": {
    "slideshow": {
     "slide_type": "fragment"
    }
   },
   "outputs": [
    {
     "name": "stdout",
     "output_type": "stream",
     "text": [
      "<re.Match object; span=(0, 11), match='Hello world'>\n"
     ]
    }
   ],
   "source": [
    "dot2 = re.search(r'Hello.world','Hello world!')\n",
    "print(dot2)"
   ]
  },
  {
   "cell_type": "code",
   "execution_count": 32,
   "metadata": {
    "slideshow": {
     "slide_type": "fragment"
    }
   },
   "outputs": [
    {
     "name": "stdout",
     "output_type": "stream",
     "text": [
      "None\n"
     ]
    }
   ],
   "source": [
    "dot3 = re.search(r'Hello..world','Hello world!')\n",
    "print(dot3)"
   ]
  },
  {
   "cell_type": "markdown",
   "metadata": {
    "slideshow": {
     "slide_type": "subslide"
    }
   },
   "source": [
    "`|` has a low precedence, i.e., if you have two words separated by it, it evaluates the whole words or even sequences of words and not just the characters immediately before and after the `|`."
   ]
  },
  {
   "cell_type": "code",
   "execution_count": 33,
   "metadata": {
    "slideshow": {
     "slide_type": "fragment"
    }
   },
   "outputs": [
    {
     "name": "stdout",
     "output_type": "stream",
     "text": [
      "<re.Match object; span=(0, 4), match='good'>\n"
     ]
    }
   ],
   "source": [
    "or1 = re.search(r'good|bye-bye', 'good-bye')\n",
    "print(or1)"
   ]
  },
  {
   "cell_type": "code",
   "execution_count": 34,
   "metadata": {
    "slideshow": {
     "slide_type": "fragment"
    }
   },
   "outputs": [
    {
     "name": "stdout",
     "output_type": "stream",
     "text": [
      "<re.Match object; span=(4, 12), match='dog runs'>\n"
     ]
    }
   ],
   "source": [
    "or2 = re.search(r'The cat|dog runs', 'The dog runs away')\n",
    "print(or2)"
   ]
  },
  {
   "cell_type": "code",
   "execution_count": 35,
   "metadata": {
    "slideshow": {
     "slide_type": "fragment"
    }
   },
   "outputs": [
    {
     "name": "stdout",
     "output_type": "stream",
     "text": [
      "<re.Match object; span=(0, 7), match='The cat'>\n"
     ]
    }
   ],
   "source": [
    "or3 = re.search(r'The cat|dog runs', 'The cat runs away')\n",
    "print(or3)"
   ]
  },
  {
   "cell_type": "markdown",
   "metadata": {
    "slideshow": {
     "slide_type": "subslide"
    }
   },
   "source": [
    "Some examples for `^` and `$`."
   ]
  },
  {
   "cell_type": "code",
   "execution_count": 36,
   "metadata": {
    "slideshow": {
     "slide_type": "fragment"
    }
   },
   "outputs": [
    {
     "name": "stdout",
     "output_type": "stream",
     "text": [
      "<re.Match object; span=(0, 11), match='Hello world'>\n"
     ]
    }
   ],
   "source": [
    "begin1 = re.search(r'^Hello world', 'Hello world!')\n",
    "print(begin1)"
   ]
  },
  {
   "cell_type": "code",
   "execution_count": 37,
   "metadata": {
    "slideshow": {
     "slide_type": "fragment"
    }
   },
   "outputs": [
    {
     "name": "stdout",
     "output_type": "stream",
     "text": [
      "None\n"
     ]
    }
   ],
   "source": [
    "begin2 = re.search(r'^Hello world', 'Hi! Hello world!')\n",
    "print(begin2)"
   ]
  },
  {
   "cell_type": "code",
   "execution_count": 38,
   "metadata": {
    "slideshow": {
     "slide_type": "fragment"
    }
   },
   "outputs": [
    {
     "name": "stdout",
     "output_type": "stream",
     "text": [
      "None\n"
     ]
    }
   ],
   "source": [
    "end1 = re.search(r'Hello world$', 'Hi! Hello world!')\n",
    "print(end1)"
   ]
  },
  {
   "cell_type": "code",
   "execution_count": 39,
   "metadata": {
    "slideshow": {
     "slide_type": "fragment"
    }
   },
   "outputs": [
    {
     "name": "stdout",
     "output_type": "stream",
     "text": [
      "<re.Match object; span=(4, 16), match='Hello world!'>\n"
     ]
    }
   ],
   "source": [
    "end2 = re.search(r'Hello world!$', 'Hi! Hello world!')\n",
    "print(end2)"
   ]
  },
  {
   "cell_type": "markdown",
   "metadata": {
    "slideshow": {
     "slide_type": "subslide"
    }
   },
   "source": [
    "## Grouping\n",
    "\n",
    "Often, you will not only want to know whether the string matches your pattern, but to make use of parts of the strings that have been identified as matching the pattern. Grouping allows for the access to such parts of the matching strings.\n",
    "\n",
    "Parentheses `()` are used to identify the beginning and end of a group."
   ]
  },
  {
   "cell_type": "code",
   "execution_count": 40,
   "metadata": {
    "slideshow": {
     "slide_type": "fragment"
    }
   },
   "outputs": [
    {
     "name": "stdout",
     "output_type": "stream",
     "text": [
      "<re.Match object; span=(0, 11), match='Hello world'>\n"
     ]
    }
   ],
   "source": [
    "grouping1 = re.search(r'(H[aeiou]llo) (world)', 'Hello world!')\n",
    "print(grouping1)"
   ]
  },
  {
   "cell_type": "markdown",
   "metadata": {
    "slideshow": {
     "slide_type": "subslide"
    }
   },
   "source": [
    "We have seen the `group` function before. Without an argument, or when we pass `0`, it returns the whole matches string."
   ]
  },
  {
   "cell_type": "code",
   "execution_count": 41,
   "metadata": {
    "slideshow": {
     "slide_type": "fragment"
    }
   },
   "outputs": [
    {
     "data": {
      "text/plain": [
       "'Hello world'"
      ]
     },
     "execution_count": 41,
     "metadata": {},
     "output_type": "execute_result"
    }
   ],
   "source": [
    "grouping1.group()"
   ]
  },
  {
   "cell_type": "code",
   "execution_count": 42,
   "metadata": {
    "slideshow": {
     "slide_type": "fragment"
    }
   },
   "outputs": [
    {
     "data": {
      "text/plain": [
       "'Hello world'"
      ]
     },
     "execution_count": 42,
     "metadata": {},
     "output_type": "execute_result"
    }
   ],
   "source": [
    "grouping1.group(0)"
   ]
  },
  {
   "cell_type": "markdown",
   "metadata": {
    "slideshow": {
     "slide_type": "subslide"
    }
   },
   "source": [
    "If we pass a value `i` other than `0`, the function returns the string corresponding to the i-th group defined in the pattern. The groups are counted from left to right according to the order of the opening parentheses. "
   ]
  },
  {
   "cell_type": "code",
   "execution_count": 43,
   "metadata": {
    "slideshow": {
     "slide_type": "fragment"
    }
   },
   "outputs": [
    {
     "data": {
      "text/plain": [
       "'Hello'"
      ]
     },
     "execution_count": 43,
     "metadata": {},
     "output_type": "execute_result"
    }
   ],
   "source": [
    "grouping1.group(1)"
   ]
  },
  {
   "cell_type": "code",
   "execution_count": 44,
   "metadata": {
    "slideshow": {
     "slide_type": "fragment"
    }
   },
   "outputs": [
    {
     "data": {
      "text/plain": [
       "'world'"
      ]
     },
     "execution_count": 44,
     "metadata": {},
     "output_type": "execute_result"
    }
   ],
   "source": [
    "grouping1.group(2)"
   ]
  },
  {
   "cell_type": "markdown",
   "metadata": {
    "slideshow": {
     "slide_type": "subslide"
    }
   },
   "source": [
    "It is possible to nest groups."
   ]
  },
  {
   "cell_type": "code",
   "execution_count": 45,
   "metadata": {
    "slideshow": {
     "slide_type": "fragment"
    }
   },
   "outputs": [
    {
     "name": "stdout",
     "output_type": "stream",
     "text": [
      "<re.Match object; span=(0, 11), match='Hello world'>\n"
     ]
    }
   ],
   "source": [
    "grouping2 = re.search(r'(H([aeiou]ll)o) (world)', 'Hello world!')\n",
    "print(grouping2)"
   ]
  },
  {
   "cell_type": "code",
   "execution_count": 46,
   "metadata": {
    "slideshow": {
     "slide_type": "fragment"
    }
   },
   "outputs": [
    {
     "data": {
      "text/plain": [
       "'Hello'"
      ]
     },
     "execution_count": 46,
     "metadata": {},
     "output_type": "execute_result"
    }
   ],
   "source": [
    "grouping2.group(1)"
   ]
  },
  {
   "cell_type": "code",
   "execution_count": 47,
   "metadata": {
    "slideshow": {
     "slide_type": "fragment"
    }
   },
   "outputs": [
    {
     "data": {
      "text/plain": [
       "'ell'"
      ]
     },
     "execution_count": 47,
     "metadata": {},
     "output_type": "execute_result"
    }
   ],
   "source": [
    "grouping2.group(2)"
   ]
  },
  {
   "cell_type": "code",
   "execution_count": 48,
   "metadata": {
    "slideshow": {
     "slide_type": "fragment"
    }
   },
   "outputs": [
    {
     "data": {
      "text/plain": [
       "'world'"
      ]
     },
     "execution_count": 48,
     "metadata": {},
     "output_type": "execute_result"
    }
   ],
   "source": [
    "grouping2.group(3)"
   ]
  },
  {
   "cell_type": "markdown",
   "metadata": {
    "slideshow": {
     "slide_type": "subslide"
    }
   },
   "source": [
    "`group` can be passed multiple indices, in which case it returns a tuple containing those groups."
   ]
  },
  {
   "cell_type": "code",
   "execution_count": 49,
   "metadata": {
    "slideshow": {
     "slide_type": "fragment"
    }
   },
   "outputs": [
    {
     "data": {
      "text/plain": [
       "('Hello', 'ell', 'Hello')"
      ]
     },
     "execution_count": 49,
     "metadata": {},
     "output_type": "execute_result"
    }
   ],
   "source": [
    "grouping2.group(1,2,1)"
   ]
  },
  {
   "cell_type": "markdown",
   "metadata": {
    "slideshow": {
     "slide_type": "fragment"
    }
   },
   "source": [
    "The method `groups` returns a tuple containing the substrings for all groups from group 1 onward."
   ]
  },
  {
   "cell_type": "code",
   "execution_count": 50,
   "metadata": {
    "slideshow": {
     "slide_type": "fragment"
    },
    "tags": []
   },
   "outputs": [
    {
     "data": {
      "text/plain": [
       "('Hello', 'ell', 'world')"
      ]
     },
     "execution_count": 50,
     "metadata": {},
     "output_type": "execute_result"
    }
   ],
   "source": [
    "grouping2.groups()"
   ]
  },
  {
   "cell_type": "markdown",
   "metadata": {
    "slideshow": {
     "slide_type": "subslide"
    }
   },
   "source": [
    "### Backreferences\n",
    "Backreferences can be used to specify that the content of an earlier group is required to also appear in the current location within the string. E.g., `\\1` refers back to group 1."
   ]
  },
  {
   "cell_type": "code",
   "execution_count": 51,
   "metadata": {
    "slideshow": {
     "slide_type": "fragment"
    }
   },
   "outputs": [
    {
     "name": "stdout",
     "output_type": "stream",
     "text": [
      "<re.Match object; span=(0, 17), match='Hello world Hello'>\n"
     ]
    }
   ],
   "source": [
    "grouping3 = re.search(r'(H([aeiou]ll)o) (world) \\1', 'Hello world Hello')\n",
    "print(grouping3)"
   ]
  },
  {
   "cell_type": "code",
   "execution_count": 52,
   "metadata": {
    "slideshow": {
     "slide_type": "fragment"
    }
   },
   "outputs": [
    {
     "name": "stdout",
     "output_type": "stream",
     "text": [
      "None\n"
     ]
    }
   ],
   "source": [
    "grouping4 = re.search(r'(H([aeiou]ll)o) (world) \\1', 'Hello world Hallo')\n",
    "print(grouping4)"
   ]
  },
  {
   "cell_type": "markdown",
   "metadata": {
    "slideshow": {
     "slide_type": "subslide"
    }
   },
   "source": [
    "### Non-capturing groups\n",
    "\n",
    "By default, all groups contained in the string are captured and thus returned when applying `groups`. Sometimes you may want to specify a group using parentheses in a regular expression but are not interested in that group's content. To do so, prefix the content inside the parentheses with `?:`."
   ]
  },
  {
   "cell_type": "code",
   "execution_count": 53,
   "metadata": {
    "slideshow": {
     "slide_type": "fragment"
    }
   },
   "outputs": [
    {
     "name": "stdout",
     "output_type": "stream",
     "text": [
      "<re.Match object; span=(0, 11), match='Hello world'>\n"
     ]
    },
    {
     "data": {
      "text/plain": [
       "('Hello', 'ell')"
      ]
     },
     "execution_count": 53,
     "metadata": {},
     "output_type": "execute_result"
    }
   ],
   "source": [
    "grouping5 = re.search(r'(H([aeiou]ll)o) (?:world)', 'Hello world!')\n",
    "print(grouping5)\n",
    "grouping5.groups()"
   ]
  },
  {
   "cell_type": "markdown",
   "metadata": {
    "slideshow": {
     "slide_type": "subslide"
    }
   },
   "source": [
    "### Named groups\n",
    "It is possible to name the groups instead of using the automatic numbering, which makes dealing with groups easier if the regular expression is very complex. To assign a group the name `groupname`, include `?P<groupname>` after the opening parenthesis. The groups will still be numbered, but you can also refer to them using their names."
   ]
  },
  {
   "cell_type": "code",
   "execution_count": 54,
   "metadata": {
    "slideshow": {
     "slide_type": "fragment"
    }
   },
   "outputs": [
    {
     "data": {
      "text/plain": [
       "'Hallo'"
      ]
     },
     "execution_count": 54,
     "metadata": {},
     "output_type": "execute_result"
    }
   ],
   "source": [
    "grouping6 = re.search(r'(?P<hello>H([aeiou]ll)o) (?P<world>world)', 'Hallo world!')\n",
    "grouping6.group('hello')"
   ]
  },
  {
   "cell_type": "code",
   "execution_count": 55,
   "metadata": {
    "slideshow": {
     "slide_type": "fragment"
    }
   },
   "outputs": [
    {
     "data": {
      "text/plain": [
       "'Hallo'"
      ]
     },
     "execution_count": 55,
     "metadata": {},
     "output_type": "execute_result"
    }
   ],
   "source": [
    "grouping6.group(1)"
   ]
  },
  {
   "cell_type": "markdown",
   "metadata": {
    "slideshow": {
     "slide_type": "subslide"
    }
   },
   "source": [
    "### Backreferences to named groups\n",
    "The syntax for backreferences to named groups is `(?P=groupname)`."
   ]
  },
  {
   "cell_type": "code",
   "execution_count": 56,
   "metadata": {
    "slideshow": {
     "slide_type": "fragment"
    }
   },
   "outputs": [
    {
     "name": "stdout",
     "output_type": "stream",
     "text": [
      "<re.Match object; span=(0, 17), match='Hello world Hello'>\n"
     ]
    }
   ],
   "source": [
    "grouping7 = re.search(r'(?P<hello>H([aeiou]ll)o) (world) (?P=hello)', 'Hello world Hello')\n",
    "print(grouping7)"
   ]
  },
  {
   "cell_type": "code",
   "execution_count": null,
   "metadata": {
    "slideshow": {
     "slide_type": "fragment"
    }
   },
   "outputs": [],
   "source": [
    "grouping7.groups()"
   ]
  },
  {
   "cell_type": "code",
   "execution_count": 57,
   "metadata": {
    "slideshow": {
     "slide_type": "fragment"
    }
   },
   "outputs": [
    {
     "name": "stdout",
     "output_type": "stream",
     "text": [
      "None\n"
     ]
    }
   ],
   "source": [
    "grouping8 = re.search(r'(?P<hello>H([aeiou]ll)o) (world) (?P=hello)', 'Hello world Hallo')\n",
    "print(grouping8)"
   ]
  },
  {
   "cell_type": "markdown",
   "metadata": {
    "slideshow": {
     "slide_type": "subslide"
    }
   },
   "source": [
    "## Word boundaries\n",
    "\n",
    "`\\b` is a zero-width assertion, i.e., the processing doesn't move forward within the string when testing the assertion `\\b`. `\\b` matches the beginning and end of a word, where words are defined as sequences of alphanumeric characters.\n",
    "\n",
    "`\\B` is the opposite of `\\b`, matching whenever the current position is not at a word boundary."
   ]
  },
  {
   "cell_type": "code",
   "execution_count": 58,
   "metadata": {
    "slideshow": {
     "slide_type": "subslide"
    }
   },
   "outputs": [
    {
     "name": "stdout",
     "output_type": "stream",
     "text": [
      "<re.Match object; span=(0, 5), match='Hello'>\n"
     ]
    }
   ],
   "source": [
    "boundary1 = re.search(r'\\bHello\\b', 'Hello world!')\n",
    "print(boundary1)"
   ]
  },
  {
   "cell_type": "code",
   "execution_count": 59,
   "metadata": {
    "slideshow": {
     "slide_type": "fragment"
    }
   },
   "outputs": [
    {
     "name": "stdout",
     "output_type": "stream",
     "text": [
      "None\n"
     ]
    }
   ],
   "source": [
    "boundary2 = re.search(r'\\bHello\\b', 'Helloworld!')\n",
    "print(boundary2)"
   ]
  },
  {
   "cell_type": "code",
   "execution_count": 60,
   "metadata": {
    "slideshow": {
     "slide_type": "fragment"
    }
   },
   "outputs": [
    {
     "name": "stdout",
     "output_type": "stream",
     "text": [
      "None\n"
     ]
    }
   ],
   "source": [
    "nonboundary1 = re.search(r'\\BHello\\B', 'Hello world!')\n",
    "print(nonboundary1)"
   ]
  },
  {
   "cell_type": "code",
   "execution_count": 61,
   "metadata": {
    "slideshow": {
     "slide_type": "fragment"
    }
   },
   "outputs": [
    {
     "name": "stdout",
     "output_type": "stream",
     "text": [
      "<re.Match object; span=(2, 5), match='llo'>\n"
     ]
    }
   ],
   "source": [
    "nonboundary2 = re.search(r'\\Bllo\\B', 'Helloworld!')\n",
    "print(nonboundary2)"
   ]
  },
  {
   "cell_type": "markdown",
   "metadata": {
    "slideshow": {
     "slide_type": "subslide"
    }
   },
   "source": [
    "## Lookahead assertions\n",
    "Lookahead assertions are useful to test whether a given condition holds at the current position in the string without moving forward inside the string.\n",
    "\n",
    "`(?=...)` where `...` needs to be replaced by a regular expression, is the syntax for a positive lookahead assertion, i.e., the evaluation of the string can continue if the regular expression is matched at the current position.\n",
    "\n",
    "`(?!...)` is the syntax for a negative lookahead assertion, i.e., the evaluation of the string can continue if the regular expression is not matched at the current position."
   ]
  },
  {
   "cell_type": "code",
   "execution_count": 62,
   "metadata": {
    "slideshow": {
     "slide_type": "subslide"
    }
   },
   "outputs": [
    {
     "name": "stdout",
     "output_type": "stream",
     "text": [
      "<re.Match object; span=(0, 5), match='hello'>\n"
     ]
    }
   ],
   "source": [
    "assertion1 = re.search(r'h(?=e)[aeiou]+llo', 'hello!')\n",
    "print(assertion1)"
   ]
  },
  {
   "cell_type": "code",
   "execution_count": 63,
   "metadata": {
    "slideshow": {
     "slide_type": "fragment"
    }
   },
   "outputs": [
    {
     "name": "stdout",
     "output_type": "stream",
     "text": [
      "None\n"
     ]
    }
   ],
   "source": [
    "assertion2 = re.search(r'h(?=e)[aeiou]+llo', 'haaeello!')\n",
    "print(assertion2)"
   ]
  },
  {
   "cell_type": "code",
   "execution_count": 64,
   "metadata": {
    "slideshow": {
     "slide_type": "fragment"
    }
   },
   "outputs": [
    {
     "name": "stdout",
     "output_type": "stream",
     "text": [
      "<re.Match object; span=(0, 5), match='hello'>\n"
     ]
    }
   ],
   "source": [
    "assertion3 = re.search(r'h(?!ai)[aeiou]+llo', 'hello!')\n",
    "print(assertion3)"
   ]
  },
  {
   "cell_type": "code",
   "execution_count": 65,
   "metadata": {
    "slideshow": {
     "slide_type": "fragment"
    }
   },
   "outputs": [
    {
     "name": "stdout",
     "output_type": "stream",
     "text": [
      "None\n"
     ]
    }
   ],
   "source": [
    "assertion4 = re.search(r'h(?!ai)[aeiou]+llo', 'haiouello!')\n",
    "print(assertion4)"
   ]
  },
  {
   "cell_type": "markdown",
   "metadata": {
    "slideshow": {
     "slide_type": "subslide"
    }
   },
   "source": [
    "## `re` objects\n",
    "\n",
    "Instead of using the `re` functions, we can also create an `re` object and use methods equivalent to those functions. This can be useful when we search for the same pattern repeatedly."
   ]
  },
  {
   "cell_type": "code",
   "execution_count": 66,
   "metadata": {
    "slideshow": {
     "slide_type": "fragment"
    }
   },
   "outputs": [
    {
     "data": {
      "text/plain": [
       "<re.Match object; span=(0, 13), match='elllo worlds!'>"
      ]
     },
     "execution_count": 66,
     "metadata": {},
     "output_type": "execute_result"
    }
   ],
   "source": [
    "re_object1 = re.compile(r'H*el+o [a-z]+!')\n",
    "re_object1.search('elllo worlds! elllo')"
   ]
  },
  {
   "cell_type": "markdown",
   "metadata": {
    "slideshow": {
     "slide_type": "subslide"
    }
   },
   "source": [
    "## flags\n",
    "Flags can be set as optional arguments to modify the behavior of `re`."
   ]
  },
  {
   "cell_type": "markdown",
   "metadata": {
    "slideshow": {
     "slide_type": "subslide"
    }
   },
   "source": [
    "`IGNORECASE` (shortcut I) eliminates the distinction between small and capital letters."
   ]
  },
  {
   "cell_type": "code",
   "execution_count": 67,
   "metadata": {
    "slideshow": {
     "slide_type": "fragment"
    },
    "tags": []
   },
   "outputs": [
    {
     "data": {
      "text/plain": [
       "<re.Match object; span=(0, 11), match='Hello WORLD'>"
      ]
     },
     "execution_count": 67,
     "metadata": {},
     "output_type": "execute_result"
    }
   ],
   "source": [
    "re_object2 = re.compile(r'hello world', re.I)\n",
    "re_object2.search('Hello WORLD!')\n"
   ]
  },
  {
   "cell_type": "markdown",
   "metadata": {
    "slideshow": {
     "slide_type": "subslide"
    }
   },
   "source": [
    "`MULTILINE` (shortcut M) changes the behavior of `^` and `$`: instead of matching only at the beginning and end of the string, they also match at the beginning and end, respectively, of each line contained in the string"
   ]
  },
  {
   "cell_type": "code",
   "execution_count": 68,
   "metadata": {
    "slideshow": {
     "slide_type": "fragment"
    },
    "tags": []
   },
   "outputs": [
    {
     "data": {
      "text/plain": [
       "<re.Match object; span=(6, 11), match='world'>"
      ]
     },
     "execution_count": 68,
     "metadata": {},
     "output_type": "execute_result"
    }
   ],
   "source": [
    "re_object3 = re.compile(r'^world', re.M)\n",
    "re_object3.search('Hello\\nworld!')"
   ]
  },
  {
   "cell_type": "code",
   "execution_count": 69,
   "metadata": {
    "slideshow": {
     "slide_type": "fragment"
    }
   },
   "outputs": [
    {
     "data": {
      "text/plain": [
       "<re.Match object; span=(0, 5), match='Hello'>"
      ]
     },
     "execution_count": 69,
     "metadata": {},
     "output_type": "execute_result"
    }
   ],
   "source": [
    "re_object4 = re.compile(r'Hello$', re.M)\n",
    "re_object4.search('Hello\\nworld!')"
   ]
  },
  {
   "cell_type": "markdown",
   "metadata": {
    "slideshow": {
     "slide_type": "subslide"
    }
   },
   "source": [
    "`DOTALL` (shortcut S) makes the `.` match all characters including the newline; otherwise it matches all characters excluding newline."
   ]
  },
  {
   "cell_type": "code",
   "execution_count": 70,
   "metadata": {
    "slideshow": {
     "slide_type": "fragment"
    },
    "tags": []
   },
   "outputs": [
    {
     "name": "stdout",
     "output_type": "stream",
     "text": [
      "None\n"
     ]
    }
   ],
   "source": [
    "re_object5 = re.compile(r'Hello.world')\n",
    "print(re_object5.search('Hello\\nworld!'))"
   ]
  },
  {
   "cell_type": "code",
   "execution_count": 71,
   "metadata": {
    "slideshow": {
     "slide_type": "fragment"
    },
    "tags": []
   },
   "outputs": [
    {
     "data": {
      "text/plain": [
       "<re.Match object; span=(0, 11), match='Hello\\nworld'>"
      ]
     },
     "execution_count": 71,
     "metadata": {},
     "output_type": "execute_result"
    }
   ],
   "source": [
    "re_object6 = re.compile(r'Hello.world', re.S)\n",
    "re_object6.search('Hello\\nworld!')"
   ]
  },
  {
   "cell_type": "markdown",
   "metadata": {
    "slideshow": {
     "slide_type": "subslide"
    }
   },
   "source": [
    "`VERBOSE` (shortcut X) allows for writing more readable regular expressions as all white spaces and comments beginning with `#` are suppressed. To include white space or an `#` in the regular expression, use the escape character `\\`."
   ]
  },
  {
   "cell_type": "code",
   "execution_count": 72,
   "metadata": {
    "slideshow": {
     "slide_type": "fragment"
    }
   },
   "outputs": [
    {
     "name": "stdout",
     "output_type": "stream",
     "text": [
      "<re.Match object; span=(0, 25), match='Hello world!\\nHello again!'>\n"
     ]
    }
   ],
   "source": [
    "re_object7 = re.compile(r\"\"\"\n",
    "Hello\\sworld!\\n               # first part of this re\n",
    "Hello\\sagain!                 # second part of this re\n",
    "\"\"\", re.X)\n",
    "print(re_object7.search('Hello world!\\nHello again!!!'))"
   ]
  },
  {
   "cell_type": "markdown",
   "metadata": {
    "slideshow": {
     "slide_type": "subslide"
    }
   },
   "source": [
    "To use more than one flag at the same time, concatenate them with `|`."
   ]
  },
  {
   "cell_type": "code",
   "execution_count": 73,
   "metadata": {
    "slideshow": {
     "slide_type": "fragment"
    },
    "tags": []
   },
   "outputs": [
    {
     "data": {
      "text/plain": [
       "<re.Match object; span=(0, 11), match='Hello\\nWORLD'>"
      ]
     },
     "execution_count": 73,
     "metadata": {},
     "output_type": "execute_result"
    }
   ],
   "source": [
    "re_object7 = re.compile(r'hello.world', re.I | re.S)\n",
    "re_object7.search('Hello\\nWORLD!')"
   ]
  },
  {
   "cell_type": "markdown",
   "metadata": {
    "slideshow": {
     "slide_type": "subslide"
    }
   },
   "source": [
    "## Splitting strings with regular expressions\n",
    "\n",
    "In the first course, you have encountered the string method `split`. `re` offers a similar method (and the corresponding function) though it is more flexible as the separator can be any substring matching the pattern provided."
   ]
  },
  {
   "cell_type": "code",
   "execution_count": 74,
   "metadata": {
    "slideshow": {
     "slide_type": "fragment"
    },
    "tags": []
   },
   "outputs": [
    {
     "data": {
      "text/plain": [
       "['hello', '', 'world;', 'hello']"
      ]
     },
     "execution_count": 74,
     "metadata": {},
     "output_type": "execute_result"
    }
   ],
   "source": [
    "re_object8 = re.compile(r'[, ]')\n",
    "re_object8.split('hello, world; hello')"
   ]
  },
  {
   "cell_type": "code",
   "execution_count": 75,
   "metadata": {
    "slideshow": {
     "slide_type": "fragment"
    },
    "tags": []
   },
   "outputs": [
    {
     "data": {
      "text/plain": [
       "['', ' world ', '']"
      ]
     },
     "execution_count": 75,
     "metadata": {},
     "output_type": "execute_result"
    }
   ],
   "source": [
    "re_object9 = re.compile(r'hello')\n",
    "re_object9.split('hello world hello')"
   ]
  },
  {
   "cell_type": "markdown",
   "metadata": {
    "slideshow": {
     "slide_type": "fragment"
    }
   },
   "source": [
    "If we wrap the pattern into parentheses, the matching strings are included in the resulting list."
   ]
  },
  {
   "cell_type": "code",
   "execution_count": 76,
   "metadata": {
    "slideshow": {
     "slide_type": "fragment"
    },
    "tags": []
   },
   "outputs": [
    {
     "data": {
      "text/plain": [
       "['', 'hello', ' world ', 'hello', '']"
      ]
     },
     "execution_count": 76,
     "metadata": {},
     "output_type": "execute_result"
    }
   ],
   "source": [
    "re_object10 = re.compile(r'(hello)')\n",
    "re_object10.split('hello world hello')"
   ]
  },
  {
   "cell_type": "markdown",
   "metadata": {
    "slideshow": {
     "slide_type": "subslide"
    }
   },
   "source": [
    "An optional argument limits the number of pieces the string is split into. The remainder of the string then is contained in the last element of the list returned."
   ]
  },
  {
   "cell_type": "code",
   "execution_count": 77,
   "metadata": {
    "slideshow": {
     "slide_type": "fragment"
    }
   },
   "outputs": [
    {
     "data": {
      "text/plain": [
       "['', ' world ', ' everyone ', \" a lot of hello, isn't it?\"]"
      ]
     },
     "execution_count": 77,
     "metadata": {},
     "output_type": "execute_result"
    }
   ],
   "source": [
    "re_object9 = re.compile(r'hello')\n",
    "re_object9.split(\"hello world hello everyone hello a lot of hello, isn't it?\", 3)"
   ]
  },
  {
   "cell_type": "markdown",
   "metadata": {
    "jupyter": {
     "outputs_hidden": true
    },
    "slideshow": {
     "slide_type": "subslide"
    }
   },
   "source": [
    "## Replacing sub-strings"
   ]
  },
  {
   "cell_type": "markdown",
   "metadata": {
    "slideshow": {
     "slide_type": "fragment"
    }
   },
   "source": [
    "`sub` replaces occurrences of the pattern with a `replacement`, which is the first argument, in a string, which is passed as the second argument. By default, all occurrences of the pattern are replaced. Optionally, the argument `count` can be passed, which specifies the maximum number of occurrences of the pattern that are to be replaced. If the pattern appears in the string more often than `count`, only the first `count` occurrences of the pattern, counting from left to right, are replaced."
   ]
  },
  {
   "cell_type": "code",
   "execution_count": 78,
   "metadata": {
    "slideshow": {
     "slide_type": "subslide"
    }
   },
   "outputs": [
    {
     "data": {
      "text/plain": [
       "\"bye world bye everyone bye a lot of bye, isn't it?\""
      ]
     },
     "execution_count": 78,
     "metadata": {},
     "output_type": "execute_result"
    }
   ],
   "source": [
    "re_object10 = re.compile(r'hello')\n",
    "re_object10.sub('bye', \"hello world hello everyone hello a lot of hello, isn't it?\")"
   ]
  },
  {
   "cell_type": "code",
   "execution_count": 79,
   "metadata": {
    "slideshow": {
     "slide_type": "fragment"
    }
   },
   "outputs": [
    {
     "data": {
      "text/plain": [
       "\"bye world bye everyone bye a lot of hello, isn't it?\""
      ]
     },
     "execution_count": 79,
     "metadata": {},
     "output_type": "execute_result"
    }
   ],
   "source": [
    "re_object10.sub('bye', \"hello world hello everyone hello a lot of hello, isn't it?\", 3)"
   ]
  },
  {
   "cell_type": "markdown",
   "metadata": {
    "slideshow": {
     "slide_type": "fragment"
    }
   },
   "source": [
    "`subn` performs the same replacements as `sub` but returns a tuple containing the changed string and the number of replacements that have been made."
   ]
  },
  {
   "cell_type": "code",
   "execution_count": 80,
   "metadata": {
    "slideshow": {
     "slide_type": "fragment"
    }
   },
   "outputs": [
    {
     "data": {
      "text/plain": [
       "(\"bye world bye everyone bye a lot of bye, isn't it?\", 4)"
      ]
     },
     "execution_count": 80,
     "metadata": {},
     "output_type": "execute_result"
    }
   ],
   "source": [
    "re_object10.subn('bye', \"hello world hello everyone hello a lot of hello, isn't it?\")"
   ]
  },
  {
   "cell_type": "code",
   "execution_count": null,
   "metadata": {},
   "outputs": [],
   "source": []
  }
 ],
 "metadata": {
  "kernelspec": {
   "display_name": "Python 3",
   "language": "python",
   "name": "python3"
  },
  "language_info": {
   "codemirror_mode": {
    "name": "ipython",
    "version": 3
   },
   "file_extension": ".py",
   "mimetype": "text/x-python",
   "name": "python",
   "nbconvert_exporter": "python",
   "pygments_lexer": "ipython3",
   "version": "3.7.7"
  },
  "varInspector": {
   "cols": {
    "lenName": 16,
    "lenType": 16,
    "lenVar": 40
   },
   "kernels_config": {
    "python": {
     "delete_cmd_postfix": "",
     "delete_cmd_prefix": "del ",
     "library": "var_list.py",
     "varRefreshCmd": "print(var_dic_list())"
    },
    "r": {
     "delete_cmd_postfix": ") ",
     "delete_cmd_prefix": "rm(",
     "library": "var_list.r",
     "varRefreshCmd": "cat(var_dic_list()) "
    }
   },
   "types_to_exclude": [
    "module",
    "function",
    "builtin_function_or_method",
    "instance",
    "_Feature"
   ],
   "window_display": false
  }
 },
 "nbformat": 4,
 "nbformat_minor": 4
}
