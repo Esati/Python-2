{
 "cells": [
  {
   "cell_type": "markdown",
   "metadata": {
    "slideshow": {
     "slide_type": "slide"
    }
   },
   "source": [
    "# Object Oriented Programming\n",
    "\n",
    "In Python, everything is an object. However, while we have used and created many objects in this and the previous course, we haven't done any object oriented programming. This programming paradigm will be introduced in this chapter."
   ]
  },
  {
   "cell_type": "markdown",
   "metadata": {
    "slideshow": {
     "slide_type": "subslide"
    }
   },
   "source": [
    "## Objects\n",
    "\n",
    "We have encountered many object types. We can find out the type of an object using the `type` function. The function tells us to which class an object belongs."
   ]
  },
  {
   "cell_type": "code",
   "execution_count": 1,
   "metadata": {
    "jupyter": {
     "outputs_hidden": false
    },
    "slideshow": {
     "slide_type": "fragment"
    }
   },
   "outputs": [
    {
     "name": "stdout",
     "output_type": "stream",
     "text": [
      "<class 'int'>\n",
      "<class 'list'>\n",
      "<class 'tuple'>\n",
      "<class 'set'>\n"
     ]
    }
   ],
   "source": [
    "print(type(123))\n",
    "print(type([1,2,3]))\n",
    "print(type((1,2,3)))\n",
    "print(type({1,2,3}))"
   ]
  },
  {
   "cell_type": "markdown",
   "metadata": {
    "slideshow": {
     "slide_type": "subslide"
    }
   },
   "source": [
    "# Classes\n",
    "\n",
    "We will take a look at how we can write classes of our own. We can then create __instances__ of those classes, i.e., objects belonging to them."
   ]
  },
  {
   "cell_type": "markdown",
   "metadata": {
    "slideshow": {
     "slide_type": "subslide"
    }
   },
   "source": [
    "## A barebone class\n",
    "The minimum each class definition needs to contain is the class statement followed by the name of the class. The keyword `pass` means that there is no code to be executed.\n",
    "\n",
    "The convention is to capitalize names of classes."
   ]
  },
  {
   "cell_type": "code",
   "execution_count": 2,
   "metadata": {
    "jupyter": {
     "outputs_hidden": false
    },
    "slideshow": {
     "slide_type": "fragment"
    }
   },
   "outputs": [],
   "source": [
    "class Nothing(object):\n",
    "    pass"
   ]
  },
  {
   "cell_type": "markdown",
   "metadata": {
    "slideshow": {
     "slide_type": "fragment"
    }
   },
   "source": [
    "We create an instance of the class `Nothing`. The variable `x` points to this object."
   ]
  },
  {
   "cell_type": "code",
   "execution_count": 3,
   "metadata": {
    "jupyter": {
     "outputs_hidden": false
    },
    "slideshow": {
     "slide_type": "fragment"
    }
   },
   "outputs": [
    {
     "name": "stdout",
     "output_type": "stream",
     "text": [
      "<class '__main__.Nothing'>\n"
     ]
    }
   ],
   "source": [
    "x = Nothing()\n",
    "print(type(x))"
   ]
  },
  {
   "cell_type": "markdown",
   "metadata": {
    "slideshow": {
     "slide_type": "fragment"
    }
   },
   "source": [
    "The '\\_\\_main\\_\\_' in the output indicates that this class has been defined in our main program. If we had defined it in a module, the output would be\n",
    "\n",
    "```\n",
    "<class 'modulename.Nothing'>\n",
    "```"
   ]
  },
  {
   "cell_type": "markdown",
   "metadata": {
    "slideshow": {
     "slide_type": "subslide"
    }
   },
   "source": [
    "## A first proper class\n",
    "\n",
    "The class we just defined doesn't do anything. We can add __methods__ and __attributes__.\n",
    "\n",
    "\n",
    "Instead of continuing with the class `Nothing`, we will create a class representing a stock.\n",
    "\n",
    "The `__init__` method is called a constructor. It is used to create a new instance of the class.\n",
    "\n",
    "The keyword `self` refers to the object itself. The first argument of a constructor is always `self`, even though we don't include `self` when calling the constructor to create a new instance of the class. The other arguments allow us to set the attributes of the object. `self.attribute` means that `attribute` is an attribute of the object and not of the class."
   ]
  },
  {
   "cell_type": "code",
   "execution_count": 4,
   "metadata": {
    "slideshow": {
     "slide_type": "fragment"
    }
   },
   "outputs": [],
   "source": [
    "class Stock(object):\n",
    "    def __init__(self, symbol, price, dividend = 0):\n",
    "        self.symbol = symbol\n",
    "        self.price = price\n",
    "        self.dividend = dividend"
   ]
  },
  {
   "cell_type": "markdown",
   "metadata": {
    "slideshow": {
     "slide_type": "subslide"
    }
   },
   "source": [
    "We can create objects of this class. This is no different from creating other objects of classes that came with Python or additional modules we used.\n",
    "\n",
    "The commands below automatically call `__init__` and assign the values of the arguments to the objects' attributes."
   ]
  },
  {
   "cell_type": "code",
   "execution_count": 5,
   "metadata": {
    "slideshow": {
     "slide_type": "fragment"
    }
   },
   "outputs": [],
   "source": [
    "apple = Stock(symbol='AAPL',price=987.65)\n",
    "microsoft = Stock('MSFT',43.21,1)"
   ]
  },
  {
   "cell_type": "markdown",
   "metadata": {
    "slideshow": {
     "slide_type": "fragment"
    }
   },
   "source": [
    "Now we have created two instances of the class `Stock`. We can access the attributes as follows."
   ]
  },
  {
   "cell_type": "code",
   "execution_count": 6,
   "metadata": {
    "jupyter": {
     "outputs_hidden": false
    },
    "slideshow": {
     "slide_type": "fragment"
    }
   },
   "outputs": [
    {
     "data": {
      "text/plain": [
       "'AAPL'"
      ]
     },
     "execution_count": 6,
     "metadata": {},
     "output_type": "execute_result"
    }
   ],
   "source": [
    "apple.symbol"
   ]
  },
  {
   "cell_type": "code",
   "execution_count": 7,
   "metadata": {
    "jupyter": {
     "outputs_hidden": false
    },
    "slideshow": {
     "slide_type": "fragment"
    }
   },
   "outputs": [
    {
     "data": {
      "text/plain": [
       "43.21"
      ]
     },
     "execution_count": 7,
     "metadata": {},
     "output_type": "execute_result"
    }
   ],
   "source": [
    "microsoft.price"
   ]
  },
  {
   "cell_type": "code",
   "execution_count": 8,
   "metadata": {
    "slideshow": {
     "slide_type": "fragment"
    }
   },
   "outputs": [
    {
     "data": {
      "text/plain": [
       "0"
      ]
     },
     "execution_count": 8,
     "metadata": {},
     "output_type": "execute_result"
    }
   ],
   "source": [
    "apple.dividend"
   ]
  },
  {
   "cell_type": "markdown",
   "metadata": {
    "slideshow": {
     "slide_type": "subslide"
    }
   },
   "source": [
    "Even though this may not be useful very often, we can directly add attributes to an object which are not contained in the class definition."
   ]
  },
  {
   "cell_type": "code",
   "execution_count": 9,
   "metadata": {
    "slideshow": {
     "slide_type": "fragment"
    }
   },
   "outputs": [
    {
     "name": "stdout",
     "output_type": "stream",
     "text": [
      "Cook\n",
      "['Jobs', 'Wayne', 'Wozniak']\n",
      "1976\n"
     ]
    }
   ],
   "source": [
    "apple.ceo = 'Cook'\n",
    "apple.founders = ['Jobs', 'Wayne', 'Wozniak']\n",
    "apple.founded = 1976\n",
    "print(apple.ceo)\n",
    "print(apple.founders)\n",
    "print(apple.founded)"
   ]
  },
  {
   "cell_type": "markdown",
   "metadata": {
    "slideshow": {
     "slide_type": "subslide"
    }
   },
   "source": [
    "Apart from the object attributes, there also exist __class attributes__. Their values are assigned to the whole class rather than to an individual instance. Class attributes are defined outside any methods, usually at the beginning of the code defining the class.\n",
    "\n",
    "Here we consider a modified `Stock` class that has the class attribute `number`, which tracks the number of `Stock` objects that have been created."
   ]
  },
  {
   "cell_type": "code",
   "execution_count": 10,
   "metadata": {
    "jupyter": {
     "outputs_hidden": false
    },
    "slideshow": {
     "slide_type": "fragment"
    }
   },
   "outputs": [],
   "source": [
    "class Stock(object):\n",
    "    number = 0\n",
    "    \n",
    "    def __init__(self, symbol, price, dividend = 0):\n",
    "        self.symbol = symbol\n",
    "        self.price = price\n",
    "        self.dividend = dividend\n",
    "        Stock.number+=1\n"
   ]
  },
  {
   "cell_type": "code",
   "execution_count": 11,
   "metadata": {},
   "outputs": [],
   "source": [
    "apple = Stock(symbol='AAPL',price=987.65, dividend=35)\n",
    "microsoft = Stock('MSFT',43.21, 1)"
   ]
  },
  {
   "cell_type": "code",
   "execution_count": 12,
   "metadata": {
    "jupyter": {
     "outputs_hidden": false
    }
   },
   "outputs": [
    {
     "data": {
      "text/plain": [
       "2"
      ]
     },
     "execution_count": 12,
     "metadata": {},
     "output_type": "execute_result"
    }
   ],
   "source": [
    "Stock.number"
   ]
  },
  {
   "cell_type": "markdown",
   "metadata": {
    "slideshow": {
     "slide_type": "subslide"
    }
   },
   "source": [
    "## Methods\n",
    "\n",
    "Methods are applied to instances of a class. Apart from providing useful functionality, they are also used to encapsulate attributes, i.e., it is possible to make attributes accessible only through methods, which is commonly done when following the OOP paradigm.\n",
    "\n",
    "We are not going to prevent direct access to attributes here, though the `get` and `set` methods illustrate how access to attributes can be encapsulated.\n"
   ]
  },
  {
   "cell_type": "code",
   "execution_count": 13,
   "metadata": {
    "jupyter": {
     "outputs_hidden": false
    },
    "slideshow": {
     "slide_type": "subslide"
    }
   },
   "outputs": [],
   "source": [
    "class Stock(object):\n",
    "    number = 0\n",
    "    tick = 0.01\n",
    "    \n",
    "    def __init__(self, symbol, price, dividend = 0):\n",
    "        self.symbol = symbol\n",
    "        self.price = price\n",
    "        self.dividend = dividend\n",
    "        Stock.number+=1\n",
    "\n",
    "    def yield_percent(self):\n",
    "        return self.dividend / self.price *100\n",
    "\n",
    "    def relative_ticksize(self):\n",
    "        return Stock.tick / self.price *10000\n",
    "\n",
    "    def set_dividend(self, dividend):\n",
    "        self.dividend = dividend\n",
    "\n",
    "    def get_dividend(self):\n",
    "        return self.dividend"
   ]
  },
  {
   "cell_type": "code",
   "execution_count": 14,
   "metadata": {
    "slideshow": {
     "slide_type": "subslide"
    }
   },
   "outputs": [
    {
     "data": {
      "text/plain": [
       "3.54376550397408"
      ]
     },
     "execution_count": 14,
     "metadata": {},
     "output_type": "execute_result"
    }
   ],
   "source": [
    "apple = Stock(symbol='AAPL',price=987.65, dividend=35)\n",
    "microsoft = Stock('MSFT',43.21, 1)\n",
    "apple.yield_percent()"
   ]
  },
  {
   "cell_type": "code",
   "execution_count": 15,
   "metadata": {},
   "outputs": [
    {
     "data": {
      "text/plain": [
       "2.3142791020597087"
      ]
     },
     "execution_count": 15,
     "metadata": {},
     "output_type": "execute_result"
    }
   ],
   "source": [
    "microsoft.relative_ticksize()"
   ]
  },
  {
   "cell_type": "code",
   "execution_count": 16,
   "metadata": {},
   "outputs": [
    {
     "data": {
      "text/plain": [
       "20"
      ]
     },
     "execution_count": 16,
     "metadata": {},
     "output_type": "execute_result"
    }
   ],
   "source": [
    "apple.set_dividend(20)\n",
    "apple.get_dividend()"
   ]
  },
  {
   "cell_type": "markdown",
   "metadata": {
    "slideshow": {
     "slide_type": "subslide"
    }
   },
   "source": [
    "### Static methods\n",
    "\n",
    "Static methods apply to the whole class and are not specific to an individual object.\n",
    "\n",
    "As an example, we add a static method that returns the number of stocks stored in a class attribute of the class `Stock`."
   ]
  },
  {
   "cell_type": "code",
   "execution_count": 17,
   "metadata": {
    "jupyter": {
     "outputs_hidden": false
    },
    "slideshow": {
     "slide_type": "subslide"
    }
   },
   "outputs": [],
   "source": [
    "class Stock(object):\n",
    "    number = 0\n",
    "    tick = 0.01\n",
    "    \n",
    "    def __init__(self, symbol, price, dividend = 0):\n",
    "        self.symbol = symbol\n",
    "        self.price = price\n",
    "        self.dividend = dividend\n",
    "        Stock.number+=1\n",
    "\n",
    "    def get_number():\n",
    "        return Stock.number\n",
    "        \n",
    "    def yield_percent(self):\n",
    "        return self.dividend / self.price *100\n",
    "\n",
    "    def relative_ticksize(self):\n",
    "        return Stock.tick / self.price *10000\n",
    "\n",
    "    def set_dividend(self, dividend):\n",
    "        self.dividend = dividend\n",
    "\n",
    "    def get_dividend(self):\n",
    "        return self.dividend"
   ]
  },
  {
   "cell_type": "code",
   "execution_count": 18,
   "metadata": {},
   "outputs": [
    {
     "data": {
      "text/plain": [
       "2"
      ]
     },
     "execution_count": 18,
     "metadata": {},
     "output_type": "execute_result"
    }
   ],
   "source": [
    "apple = Stock(symbol='AAPL',price=987.65, dividend=35)\n",
    "microsoft = Stock('MSFT',43.21, 1)\n",
    "Stock.get_number()"
   ]
  },
  {
   "cell_type": "markdown",
   "metadata": {
    "slideshow": {
     "slide_type": "subslide"
    }
   },
   "source": [
    "## Inheritance\n",
    "\n",
    "If one type of object is a special case of another, we can define a __parent class__ that the other class inherits from. The latter is also called a __derived class__, the former a __base class__.\n",
    "\n",
    "Inheritance enables the reuse of code and a better understanding of the structure of a program. The derived classes can retain the functionality of the base classes, but they can also override or extend that functionality."
   ]
  },
  {
   "cell_type": "code",
   "execution_count": 26,
   "metadata": {
    "slideshow": {
     "slide_type": "subslide"
    }
   },
   "outputs": [],
   "source": [
    "class FinancialInstrument(object):\n",
    "    number = 0\n",
    "    def __init__(self, price):\n",
    "        self.price = price\n",
    "        print('instrument created')\n",
    "    def get_number():\n",
    "        pass                        \n",
    "    def yield_percent(self):\n",
    "        pass\n",
    "    \n",
    "class Stock(FinancialInstrument):\n",
    "    tick = 0.01    \n",
    "    def __init__(self, symbol, price, dividend = 0):\n",
    "        FinancialInstrument.__init__(self, price)\n",
    "        self.symbol = symbol\n",
    "        self.dividend = dividend\n",
    "        Stock.number+=1\n",
    "    def get_number():\n",
    "        return Stock.number                \n",
    "    def yield_percent(self):\n",
    "        return self.dividend / self.price *100\n",
    "    def relative_ticksize(self):\n",
    "        return Stock.tick / self.price *10000\n",
    "    def set_dividend(self, dividend):\n",
    "        self.dividend = dividend\n",
    "    def get_dividend(self):\n",
    "        return self.dividend\n",
    "    \n",
    "class Bond(FinancialInstrument):\n",
    "    def __init__(self, cusip, price, coupon = 0):\n",
    "        FinancialInstrument.__init__(self, price)\n",
    "        self.cusip = cusip\n",
    "        self.coupon = coupon\n",
    "        Bond.number+=1\n",
    "    def get_number():\n",
    "        return Bond.number                       \n",
    "    def yield_percent(self):\n",
    "        return self.coupon / self.price *100     "
   ]
  },
  {
   "cell_type": "code",
   "execution_count": 20,
   "metadata": {
    "slideshow": {
     "slide_type": "subslide"
    }
   },
   "outputs": [
    {
     "name": "stdout",
     "output_type": "stream",
     "text": [
      "instrument created\n",
      "instrument created\n"
     ]
    },
    {
     "data": {
      "text/plain": [
       "2"
      ]
     },
     "execution_count": 20,
     "metadata": {},
     "output_type": "execute_result"
    }
   ],
   "source": [
    "apple = Stock(symbol='AAPL',price=987.65, dividend=35)\n",
    "microsoft = Stock('MSFT',43.21, 1)\n",
    "Stock.get_number()"
   ]
  },
  {
   "cell_type": "code",
   "execution_count": 21,
   "metadata": {},
   "outputs": [
    {
     "name": "stdout",
     "output_type": "stream",
     "text": [
      "instrument created\n"
     ]
    },
    {
     "data": {
      "text/plain": [
       "0.0"
      ]
     },
     "execution_count": 21,
     "metadata": {},
     "output_type": "execute_result"
    }
   ],
   "source": [
    "bond1 = Bond('US1231231',100)\n",
    "bond1.yield_percent()"
   ]
  },
  {
   "cell_type": "code",
   "execution_count": 22,
   "metadata": {},
   "outputs": [
    {
     "data": {
      "text/plain": [
       "1"
      ]
     },
     "execution_count": 22,
     "metadata": {},
     "output_type": "execute_result"
    }
   ],
   "source": [
    "Bond.get_number()"
   ]
  },
  {
   "cell_type": "markdown",
   "metadata": {
    "slideshow": {
     "slide_type": "subslide"
    }
   },
   "source": [
    "## Special Methods\n",
    "\n",
    "Classes can implement certain special methods that are available in all Python classes.\n",
    "We don't usually call those methods directly but through a different syntax.\n",
    "\n",
    "* `__str__` provides a string representation of the object that is used when applying `print`.\n",
    "* `__len__` defines the value to be returned when applying `len`.\n",
    "* `__del__` provides the commands to be executed beside the deletion of the variable when applying `del`."
   ]
  },
  {
   "cell_type": "code",
   "execution_count": 23,
   "metadata": {
    "slideshow": {
     "slide_type": "subslide"
    }
   },
   "outputs": [],
   "source": [
    "class Stock(FinancialInstrument):\n",
    "    tick = 0.01\n",
    "    \n",
    "    def __init__(self, symbol, price, dividend = 0):\n",
    "        FinancialInstrument.__init__(self, price)\n",
    "        self.symbol = symbol\n",
    "        self.dividend = dividend\n",
    "        Stock.number+=1\n",
    "\n",
    "    def __str__(self):\n",
    "        return \"Symbol:%s , Price:%s, Dividend:%s \" %(self.symbol, self.price, self.dividend)\n",
    "\n",
    "    def __len__(self):\n",
    "        return len(self.symbol)\n",
    "\n",
    "    def __del__(self):\n",
    "        Stock.number-=1\n",
    "        print('%s has been deleted!' %(self.symbol))"
   ]
  },
  {
   "cell_type": "code",
   "execution_count": 27,
   "metadata": {
    "jupyter": {
     "outputs_hidden": false
    },
    "slideshow": {
     "slide_type": "subslide"
    }
   },
   "outputs": [
    {
     "name": "stdout",
     "output_type": "stream",
     "text": [
      "instrument created\n",
      "AAPL has been deleted!\n",
      "instrument created\n",
      "<__main__.Stock object at 0x0000021C3AA09E80>\n"
     ]
    },
    {
     "ename": "TypeError",
     "evalue": "object of type 'Stock' has no len()",
     "output_type": "error",
     "traceback": [
      "\u001b[1;31m---------------------------------------------------------------------------\u001b[0m",
      "\u001b[1;31mTypeError\u001b[0m                                 Traceback (most recent call last)",
      "\u001b[1;32m~\\AppData\\Local\\Temp/ipykernel_21244/1422790182.py\u001b[0m in \u001b[0;36m<module>\u001b[1;34m\u001b[0m\n\u001b[0;32m      2\u001b[0m \u001b[0mmicrosoft\u001b[0m \u001b[1;33m=\u001b[0m \u001b[0mStock\u001b[0m\u001b[1;33m(\u001b[0m\u001b[1;34m'MSFT'\u001b[0m\u001b[1;33m,\u001b[0m\u001b[1;36m43.21\u001b[0m\u001b[1;33m,\u001b[0m \u001b[1;36m1\u001b[0m\u001b[1;33m)\u001b[0m\u001b[1;33m\u001b[0m\u001b[1;33m\u001b[0m\u001b[0m\n\u001b[0;32m      3\u001b[0m \u001b[0mprint\u001b[0m\u001b[1;33m(\u001b[0m\u001b[0mmicrosoft\u001b[0m\u001b[1;33m)\u001b[0m\u001b[1;33m\u001b[0m\u001b[1;33m\u001b[0m\u001b[0m\n\u001b[1;32m----> 4\u001b[1;33m \u001b[0mprint\u001b[0m\u001b[1;33m(\u001b[0m\u001b[0mlen\u001b[0m\u001b[1;33m(\u001b[0m\u001b[0mmicrosoft\u001b[0m\u001b[1;33m)\u001b[0m\u001b[1;33m)\u001b[0m\u001b[1;33m\u001b[0m\u001b[1;33m\u001b[0m\u001b[0m\n\u001b[0m\u001b[0;32m      5\u001b[0m \u001b[1;32mdel\u001b[0m \u001b[0mmicrosoft\u001b[0m\u001b[1;33m\u001b[0m\u001b[1;33m\u001b[0m\u001b[0m\n\u001b[0;32m      6\u001b[0m \u001b[0mStock\u001b[0m\u001b[1;33m.\u001b[0m\u001b[0mnumber\u001b[0m\u001b[1;33m\u001b[0m\u001b[1;33m\u001b[0m\u001b[0m\n",
      "\u001b[1;31mTypeError\u001b[0m: object of type 'Stock' has no len()"
     ]
    }
   ],
   "source": [
    "apple = Stock(symbol='AAPL',price=987.65, dividend=35)\n",
    "microsoft = Stock('MSFT',43.21, 1)\n",
    "print(microsoft)\n",
    "print(len(microsoft))\n",
    "del microsoft\n",
    "Stock.number"
   ]
  },
  {
   "cell_type": "markdown",
   "metadata": {},
   "source": [
    "The methods prefixed and suffixed by `__` are private, i.e., they cannot be directly called from outside the module. We can call them here only because we are operating in the same `namespace`, i.e., we haven't saved the class in a module that we would have to import to use it."
   ]
  },
  {
   "cell_type": "code",
   "execution_count": 25,
   "metadata": {},
   "outputs": [
    {
     "data": {
      "text/plain": [
       "4"
      ]
     },
     "execution_count": 25,
     "metadata": {},
     "output_type": "execute_result"
    }
   ],
   "source": [
    "apple.__len__()"
   ]
  }
 ],
 "metadata": {
  "celltoolbar": "Slideshow",
  "kernelspec": {
   "display_name": "Python 3 (ipykernel)",
   "language": "python",
   "name": "python3"
  },
  "language_info": {
   "codemirror_mode": {
    "name": "ipython",
    "version": 3
   },
   "file_extension": ".py",
   "mimetype": "text/x-python",
   "name": "python",
   "nbconvert_exporter": "python",
   "pygments_lexer": "ipython3",
   "version": "3.9.7"
  },
  "varInspector": {
   "cols": {
    "lenName": 16,
    "lenType": 16,
    "lenVar": 40
   },
   "kernels_config": {
    "python": {
     "delete_cmd_postfix": "",
     "delete_cmd_prefix": "del ",
     "library": "var_list.py",
     "varRefreshCmd": "print(var_dic_list())"
    },
    "r": {
     "delete_cmd_postfix": ") ",
     "delete_cmd_prefix": "rm(",
     "library": "var_list.r",
     "varRefreshCmd": "cat(var_dic_list()) "
    }
   },
   "types_to_exclude": [
    "module",
    "function",
    "builtin_function_or_method",
    "instance",
    "_Feature"
   ],
   "window_display": false
  }
 },
 "nbformat": 4,
 "nbformat_minor": 4
}
