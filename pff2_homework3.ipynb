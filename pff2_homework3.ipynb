{
 "cells": [
  {
   "cell_type": "markdown",
   "metadata": {},
   "source": [
    "# Homework exercise 3\n",
    "## Deadline: upload to Moodle by 12 June 18:00 h\n",
    "\n",
    "__Please submit your homework either as a Jupyter Notebook or using .py files.__\n",
    "\n",
    "If you use .py files, please also include a PDF containing the output of your code and your explanations. Either way, the code needs to be in a form that can be easily run on another computer.\n",
    "\n",
    "__Name 1:__\n",
    "\n",
    "__Name 2:__\n",
    "\n",
    "__Name 3:__\n",
    "\n",
    "\n",
    "The name of the file that you upload should be named *Homework3_YourLastName_YourStudentID*.\n",
    "\n",
    "Reminder: you are required to attend class on 13 June to earn points for this homework exercise unless you have a valid reason for your absence.\n",
    "\n",
    "You are encouraged to work on this exercise in teams of up to three students. If any part of the questions is unclear, please ask on the Moodle forum."
   ]
  },
  {
   "cell_type": "markdown",
   "metadata": {},
   "source": [
    "#### APIs, NLP, ML\n"
   ]
  },
  {
   "cell_type": "markdown",
   "metadata": {},
   "source": [
    "__New York Times__\n",
    "\n",
    "\n",
    "The New York Times offers an API providing free access to meta data and the first paragraph of all of its articles. It is documented at https://developer.nytimes.com/\n",
    "\n",
    "Please note that using the NYT API requires users to register to obtain an API key that you need to use when submitting your requests. Feel free to use any temporary email address if you have any concerns with sharing your usual address with the NYT.\n",
    "\n",
    "Please collect data for all articles published in the NYT in 2022 and arrange the data in a table, e.g., a DataFrame, in a way that, at least for those columns you need later, allows immediate access to each value as a string or other simple data type rather than having columns of the table filled with dicts or lists.\n",
    "\n",
    "The goal will be to classify articles based on their bylines, headlines, lead paragraphs, article length (word_count). Various pieces of information from the meta data could be used to define categories, though it is sufficient for you to attempt the classification for the half of the year the article was published, and the name of the section in the NYT in which the article appeared.\n",
    "\n",
    "Write a class NYTClassifier that contains two object attributes: the categorical variable to be used in the classification (here: half_year or section_name) and a list of values (of length 2 for now, since you have only encountered a binary classifier) for that category (e.g., a list of two different sections). The class should be derived from the Perceptron class from Chapter 7. It should contain a method that combines the preprocessing of the data and the estimation.\n",
    "\n",
    "The preprocessing should generate features that might help predict the category. Please don't use features such as the frequency of each word as we will take a look at appropriate ways of working with such information only in the next class. Possible features could be: sentence length, word length, number of sentences in the first paragraph, shares of nouns, verbs, etc., number of stop words used compared to other words, etc.. Please add any other features that you think might be useful for this task.\n",
    "\n",
    "Please use the class NYTClassifier to conduct pairwise classifications of articles published in the two half-years, and from three different sections. Plot the percentage of articles that are incorrectly classified in each epoch for different learning rates. Don't expect to achieve near-perfect predictions as the features you employ won't be able to easily distinguish between categories the way they did in the example in class."
   ]
  },
  {
   "cell_type": "code",
   "execution_count": null,
   "metadata": {},
   "outputs": [],
   "source": []
  }
 ],
 "metadata": {
  "kernelspec": {
   "display_name": "Python 3",
   "language": "python",
   "name": "python3"
  },
  "language_info": {
   "codemirror_mode": {
    "name": "ipython",
    "version": 3
   },
   "file_extension": ".py",
   "mimetype": "text/x-python",
   "name": "python",
   "nbconvert_exporter": "python",
   "pygments_lexer": "ipython3",
   "version": "3.7.7"
  },
  "varInspector": {
   "cols": {
    "lenName": 16,
    "lenType": 16,
    "lenVar": 40
   },
   "kernels_config": {
    "python": {
     "delete_cmd_postfix": "",
     "delete_cmd_prefix": "del ",
     "library": "var_list.py",
     "varRefreshCmd": "print(var_dic_list())"
    },
    "r": {
     "delete_cmd_postfix": ") ",
     "delete_cmd_prefix": "rm(",
     "library": "var_list.r",
     "varRefreshCmd": "cat(var_dic_list()) "
    }
   },
   "types_to_exclude": [
    "module",
    "function",
    "builtin_function_or_method",
    "instance",
    "_Feature"
   ],
   "window_display": false
  }
 },
 "nbformat": 4,
 "nbformat_minor": 4
}
