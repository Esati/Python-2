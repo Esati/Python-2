{
 "cells": [
  {
   "cell_type": "markdown",
   "metadata": {
    "slideshow": {
     "slide_type": "slide"
    }
   },
   "source": [
    "# Machine Learning - An Introduction"
   ]
  },
  {
   "cell_type": "markdown",
   "metadata": {
    "slideshow": {
     "slide_type": "subslide"
    }
   },
   "source": [
    "## What is Machine Learning?\n",
    "\n",
    "Machine Learning is the field of study that gives computers the ability to learn\n",
    "without being explicitly programmed.\n",
    "—Arthur Samuel, 1959\n",
    "\n",
    "\n",
    "A computer program is said to learn from experience E with respect to some task T\n",
    "and some performance measure P, if its performance on T, as measured by P, improves\n",
    "with experience E.\n",
    "—Tom Mitchell, 1997"
   ]
  },
  {
   "cell_type": "markdown",
   "metadata": {
    "slideshow": {
     "slide_type": "subslide"
    }
   },
   "source": [
    "### Examples of machine learning\n",
    "\n",
    "* Email spam filter\n",
    "* Image recognition\n",
    "* Character recognition\n",
    "* Sentiment analysis\n",
    "* Stock market prediction\n",
    "* Credit risk evaluation\n",
    "* Product recommendations (Amazon, Youtube, etc.)\n",
    "* Web search\n",
    "* Self-driving cars"
   ]
  },
  {
   "cell_type": "markdown",
   "metadata": {
    "slideshow": {
     "slide_type": "subslide"
    }
   },
   "source": [
    "## Why should we use machine learning?\n",
    "\n",
    "It is impossible to know the function that returns the best results based on large amounts of data (e.g., we couldn't possibly write an algorithm comprising all the rules that might decide whether an email is spam).\n",
    "<center>\n",
    "\n",
    "<img src=\"images/geron1_1.png\" align=\"center\" width=\"800\" />\n",
    "</center>\n",
    "(Traditional approach, Geron, (Fig 1-1)"
   ]
  },
  {
   "cell_type": "markdown",
   "metadata": {
    "slideshow": {
     "slide_type": "subslide"
    }
   },
   "source": [
    "Solution: Instead choose only the method used to solve the problem and use data to learn the parameters.\n",
    "\n",
    "<center>\n",
    "\n",
    "<img src=\"images/geron1_2.png\" align=\"center\" width=\"800\" />\n",
    "</center>\n",
    "\n",
    "\n",
    "Machine Learning approach (Geron, Fig 1-2)"
   ]
  },
  {
   "cell_type": "markdown",
   "metadata": {
    "slideshow": {
     "slide_type": "subslide"
    }
   },
   "source": [
    "## Types of Machine Learning\n",
    "\n",
    "There are three types of machine learning: __supervised learning__, __unsupervised learning__, and __reinforcement learning__. We will mostly be concerned with supervised learning."
   ]
  },
  {
   "cell_type": "markdown",
   "metadata": {
    "slideshow": {
     "slide_type": "subslide"
    }
   },
   "source": [
    "## Supervised Learning\n",
    "\n",
    "<center>\n",
    "\n",
    "<img src=\"images/01_02.png\" align=\"center\" width=\"600\" />\n",
    "</center>\n",
    "(Raschka, ch 1)\n",
    "\n",
    "In supervised learning, we use __training data__ containing __labels__ to learn the __predictive model__.\n",
    "\n",
    "A __label__ is the outcome of interest that we want to predict.\n",
    "\n",
    "__Training data__ is used only to determine the predictive model. We already know the labels for this data set.\n",
    "\n",
    "\n",
    "Each data point is called a __sample__ (equivalent to what would be called an observation in Econometrics).\n",
    "\n",
    "\n",
    "The data contains __features__, which are used to make the prediction. The term `feature` in ML corresponds to the term `predictor` in regression models in Statistics or Econometrics.\n",
    "\n",
    "The __predictive model__ is then used to make predictions for new data. This new data is usually called __test data__.\n"
   ]
  },
  {
   "cell_type": "markdown",
   "metadata": {
    "slideshow": {
     "slide_type": "subslide"
    }
   },
   "source": [
    "## Types of prediction in Supervised Learning\n",
    "\n",
    "There are two different prediction tasks for which we use supervised learning: __classification__ and __regression__ (not to be confused with regression in Statistics and Econometrics). We will later see that most machine learning algorithms can be used for either type of prediction task."
   ]
  },
  {
   "cell_type": "markdown",
   "metadata": {
    "slideshow": {
     "slide_type": "subslide"
    }
   },
   "source": [
    "## Classification\n",
    "Classification is the task of predicting a categorical label. I.e., the label can take on two or more discrete values and we would like to\n",
    "* predict which category an instance most likely belongs to, or\n",
    "* determine the probabilities for each category.\n",
    "\n",
    "<center>\n",
    "<img src=\"images/01_03.png\" align=\"center\" width=\"600\" />\n",
    "</center>\n",
    "(Raschka, ch 1)"
   ]
  },
  {
   "cell_type": "markdown",
   "metadata": {
    "slideshow": {
     "slide_type": "subslide"
    }
   },
   "source": [
    "## Regression\n",
    "\n",
    "Regression is the task of predicting a numerical value of the label. I.e., the label can take on a continuum of values and we would like to predict the expected value.\n",
    "\n",
    "<center>\n",
    "\n",
    "<img src=\"images/01_04.png\" align=\"center\" width=\"800\" />\n",
    "</center>\n",
    "(Raschka, ch 1)\n"
   ]
  },
  {
   "cell_type": "markdown",
   "metadata": {
    "slideshow": {
     "slide_type": "subslide"
    }
   },
   "source": [
    "## Reinforcement learning\n",
    "In reinforcement learning, the algorithm improves its performance based on a __reward signal__ it receives in response to its actions. Reinforcement learning is used, e.g., in the software used by chess engines or self-driving cars. We won't look at reinforcement learning in any detail in this course.\n",
    "\n",
    "<center>\n",
    "\n",
    "<img src=\"images/01_05.png\" align=\"center\" width=\"1000\" />\n",
    "</center>\n",
    "(Raschka, ch 1)\n"
   ]
  },
  {
   "cell_type": "markdown",
   "metadata": {
    "slideshow": {
     "slide_type": "subslide"
    }
   },
   "source": [
    "## Unsupervised learning\n",
    "In unsupervised learning, we want to learn something about the structure of data that doesn't contain labels."
   ]
  },
  {
   "cell_type": "markdown",
   "metadata": {
    "slideshow": {
     "slide_type": "subslide"
    }
   },
   "source": [
    "### Clustering\n",
    "One popular unsupervised machine learning task is clustering, which groups the data into clusters containing samples that are similar to one another and different from those in other clusters.\n",
    "<center>\n",
    "\n",
    "<img src=\"images/01_06.png\" align=\"center\" width=\"800\" />\n",
    "</center>\n",
    "(Raschka, ch 1)"
   ]
  },
  {
   "cell_type": "markdown",
   "metadata": {
    "slideshow": {
     "slide_type": "subslide"
    }
   },
   "source": [
    "### Dimensionality reduction\n",
    "Another important unsupervised learning task is dimensionality reduction, i.e., taking high-dimensional data and reducing it to a lower-dimensional data set containing most of the information in the higher-dimensional data."
   ]
  },
  {
   "cell_type": "markdown",
   "metadata": {
    "slideshow": {
     "slide_type": "subslide"
    }
   },
   "source": [
    "### Anomaly detection\n",
    "Anomaly detection tries to identify outliers in the data. Applications include fraudulent transactions by bank customers, and simple errors in the data we use.  \n",
    "<center>\n",
    "\n",
    "<img src=\"images/geron1_10.png\" align=\"center\" width=\"1000\" />\n",
    "</center>\n",
    "(Geron, fig 1-10)"
   ]
  },
  {
   "cell_type": "markdown",
   "metadata": {
    "slideshow": {
     "slide_type": "subslide"
    }
   },
   "source": [
    "### Overview of terminology\n",
    "<center>\n",
    "\n",
    "<img src=\"images/01_08.png\" align=\"center\" width=\"800\" />\n",
    "</center>\n",
    "(Raschka, ch 1)"
   ]
  },
  {
   "cell_type": "markdown",
   "metadata": {
    "slideshow": {
     "slide_type": "subslide"
    }
   },
   "source": [
    "## Building a machine learning system\n",
    "<center>\n",
    "\n",
    "<img src=\"images/01_09.png\" align=\"center\" width=\"800\" />\n",
    "</center>\n",
    "(Raschka, ch 1)"
   ]
  }
 ],
 "metadata": {
  "celltoolbar": "Slideshow",
  "kernelspec": {
   "display_name": "Python 3",
   "language": "python",
   "name": "python3"
  },
  "language_info": {
   "codemirror_mode": {
    "name": "ipython",
    "version": 3
   },
   "file_extension": ".py",
   "mimetype": "text/x-python",
   "name": "python",
   "nbconvert_exporter": "python",
   "pygments_lexer": "ipython3",
   "version": "3.7.7"
  },
  "varInspector": {
   "cols": {
    "lenName": 16,
    "lenType": 16,
    "lenVar": 40
   },
   "kernels_config": {
    "python": {
     "delete_cmd_postfix": "",
     "delete_cmd_prefix": "del ",
     "library": "var_list.py",
     "varRefreshCmd": "print(var_dic_list())"
    },
    "r": {
     "delete_cmd_postfix": ") ",
     "delete_cmd_prefix": "rm(",
     "library": "var_list.r",
     "varRefreshCmd": "cat(var_dic_list()) "
    }
   },
   "types_to_exclude": [
    "module",
    "function",
    "builtin_function_or_method",
    "instance",
    "_Feature"
   ],
   "window_display": false
  }
 },
 "nbformat": 4,
 "nbformat_minor": 4
}
