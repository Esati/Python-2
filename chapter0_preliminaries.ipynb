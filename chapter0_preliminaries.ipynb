{
 "cells": [
  {
   "cell_type": "markdown",
   "metadata": {
    "slideshow": {
     "slide_type": "slide"
    }
   },
   "source": [
    "# __Python for Finance II__"
   ]
  },
  {
   "cell_type": "markdown",
   "metadata": {
    "slideshow": {
     "slide_type": "subslide"
    }
   },
   "source": [
    "# Preliminaries"
   ]
  },
  {
   "cell_type": "markdown",
   "metadata": {
    "slideshow": {
     "slide_type": "subslide"
    }
   },
   "source": [
    "## Objectives\n",
    "\n",
    "1. Getting to know further aspects of programming and of Python (beyond those contained in the first course)\n",
    "2. Ability to apply methods from machine learning and natural language processing in a Finance context\n",
    "3. Experience with a group project aimed at solving a somewhat larger problem independently"
   ]
  },
  {
   "cell_type": "markdown",
   "metadata": {
    "slideshow": {
     "slide_type": "subslide"
    }
   },
   "source": [
    "## Admin details\n",
    "\n",
    "__Schedule:__ May 2 to June 27, 1.15-2.45 (except for May 2) and 3.00-4.30 pm, PC room 5, Oskar-Morgenstern-Platz 1\n",
    "\n",
    "__Requirements for taking this course:__ I expect you to have prior experience with Python similar to what you may have gained in Python for Finance I. I will assume that you have taken an introductory Finance course such as \"Basics of Finance\". Prior exposure to a course such as \"Introductory Econometrics\" / \"Microeconometrics\" would be beneficial.\n",
    "\n",
    "__Deregistration:__ I will deregister you if you don't attend class today unless you let me know by Thursday, May 4, why you missed the first class and that you still want to take this course. I will also deregister you upon request until May 9."
   ]
  },
  {
   "cell_type": "markdown",
   "metadata": {
    "slideshow": {
     "slide_type": "subslide"
    }
   },
   "source": [
    "__Moodle:__\n",
    "* Course materials will be available for download\n",
    "* Ask questions on the forum. Answer others' questions there. I\n",
    "will answer questions that you leave unanswered\n",
    "* Homework exercises will be submitted via Moodle\n",
    "\n",
    "__Contact:__ christian.westheide@univie.ac.at\n",
    "\n",
    "__Office hours:__ upon appointment, Room 6.335, OMP"
   ]
  },
  {
   "cell_type": "markdown",
   "metadata": {
    "slideshow": {
     "slide_type": "subslide"
    }
   },
   "source": [
    "## Topics\n",
    "\n",
    "1. Python and Programming Concepts (interspersed throughout the course)\n",
    "2. Gathering and processing of textual data\n",
    "3. Machine learning with scikit-learn"
   ]
  },
  {
   "cell_type": "markdown",
   "metadata": {
    "slideshow": {
     "slide_type": "subslide"
    }
   },
   "source": [
    "## Literature\n",
    "\n",
    "### Books\n",
    "\n",
    "* Bird, S., Klein, E., Loper, E., Natural Language Processing with Python, 2019. https://www.nltk.org/book/\n",
    "* Géron, A., Hands-On Machine Learning with Scikit-Learn, Keras, and TensorFlow: Concepts, Tools, and Techniques to Build Intelligent Systems, 1st (2017), 2nd (2019), or 3rd (2022) edition. O'Reilly Media., or Géron, A., Praxiseinstieg Machine Learning mit Scikit-Learn, Keras und TensorFlow: Konzepte, Tools und Techniken für intelligente Systeme. 2nd edition (2020). O'Reilly Media.\n",
    "* Raschka, S., Mirjalili, V., Python Machine Learning: Machine Learning and Deep Learning with Python, scikit-learn, and TensorFlow, 2nd (2017) or 3rd (2019) edition. Packt Publishing. or Raschka, S., Mirjalili, V., Machine Learning mit Python und Scikit-Learn und TensorFlow : das umfassende Praxis-Handbuch für Data Science, Predictive Analytics und Deep Learning, 2. (2018) or 3. (2021) Auflage. MITP. or\n",
    "Raschka, S., Mirjalili, V., Liu, Y. (H.), Machine Learning with PyTorch and Scikit-Learn: Develop machine learning and deep learning models with Python. 1st edition (2022). Packt Publishing."
   ]
  },
  {
   "cell_type": "markdown",
   "metadata": {
    "slideshow": {
     "slide_type": "subslide"
    }
   },
   "source": [
    "### Overviews from the financial industry\n",
    "\n",
    "* Zatloukal, K., ML & Investing Part 1: From Linear Regression to Ensembles of Decision Stumps, 2018. https://www.osam.com/Commentary/ml-investing-linear-regression-to-decision-stumps\n",
    "* Zatloukal, K., ML & Investing Part 2: Clustering, 2019. https://osam.com/pdfs/research/ML-and-Investing-Part-2-Clustering.pdf\n",
    "* AQR Capital Management, Can Machines \"Learn\" Finance? 2019. https://images.aqr.com/-/media/AQR/Documents/Alternative-Thinking/AQR-Alternative-Thinking-2Q19-Can-Machines-Learn-Finance.pdf"
   ]
  },
  {
   "cell_type": "markdown",
   "metadata": {
    "slideshow": {
     "slide_type": "subslide"
    }
   },
   "source": [
    "### Official documents\n",
    "\n",
    "* Beginner's Guide to Python https://wiki.python.org/moin/BeginnersGuide\n",
    "* The Python Tutorial https://docs.python.org/3/tutorial/index.html\n",
    "\n",
    "### Other sources\n",
    "\n",
    "* Stack Overflow provides numerous questions and answers about Python https://stackoverflow.com/"
   ]
  },
  {
   "cell_type": "markdown",
   "metadata": {
    "slideshow": {
     "slide_type": "subslide"
    }
   },
   "source": [
    "## Grading\n",
    "\n",
    "1. Class participation (10%)\n",
    "    * general constructive participation (including on the Moodle forum)\n",
    "    * in-class exercises\n",
    "2. Homework exercises (60%)\n",
    "    * To be submitted by 18:00h on the Monday before the fourth, fifth, sixth, and seventh class; made available on the day of the previous class at the latest\n",
    "    * presentation of solutions on the next day\n",
    "    * 15% credit available for each homework\n",
    "    * no points if you are unable to present unless there is a valid excuse for your absence\n",
    "    * first exercise to be worked on and submitted individually\n",
    "    * team of up to three students allowed for the second to fourth \n",
    "    * zero points for everyone involved, and possibly more punishment, if I find students copied from each other or from other sources\n",
    "    "
   ]
  },
  {
   "cell_type": "markdown",
   "metadata": {
    "slideshow": {
     "slide_type": "subslide"
    }
   },
   "source": [
    "3. Course project (30%)\n",
    "    * You will work on an application of methods learned in this course in teams of up to three students\n",
    "        * ideally in teams of three students so that you learn working on a project in a team\n",
    "        * topics should usually use NLP and/or ML and be related to Finance, but we can discuss exceptions\n",
    "    * You are asked to choose topics for your project on your own, though I will be happy to discuss your ideas with you\n",
    "    * Brief description (maximum 1 page) of your planned project to be submitted by June 19, 18:00h\n",
    "    * Presentation of your planned project on June 27 in class\n",
    "    * Submission of your project until July 28 (or later, to be determined) via Github (more on that later) including a report describing what you did and your results (maximum 6 pages not including any tables)\n",
    "    * Presentation of your project on July 31 (or later, to be determined) via Zoom"
   ]
  },
  {
   "cell_type": "markdown",
   "metadata": {
    "slideshow": {
     "slide_type": "subslide"
    }
   },
   "source": [
    "## Some advice and what to expect\n",
    "\n",
    "* 4 ECTS = 100 hours expected typical workload, about one quarter of which is spent in class meetings\n",
    "* Large majority of what remains should be spent on homework and course project \n",
    "* You are strongly advised to work in a team. I assume that you do so and you otherwise accept that you may need to work more than intended on this course. Ideally, try pair/team programming, where you work together on developing the code while in the same room\n",
    "* The course project is really only worth as much as two problem sets. I don't expect you to produce anything resembling a thesis or seminar paper. The page limit is an attempt at signaling this. If you want to do more than I expect, that is completely up to you and it doesn't set the standard for others.\n",
    "* The earlier you start work on the problem sets, the easier it is to clarify any questions you may have in a timely manner. You are always welcome to ask questions. Don't penalize yourself by guessing what you are expected to do when you are unsure.\n",
    "* The same goes for class meetings: please ask if anything is unclear, and if you are stuck when trying to solve in-class exercises"
   ]
  },
  {
   "cell_type": "markdown",
   "metadata": {
    "slideshow": {
     "slide_type": "subslide"
    }
   },
   "source": [
    "## AI tools\n",
    "\n",
    "* Tools such as ChatGPT or Copilot output code upon request\n",
    "* Such tools are useful when you already have sufficient coding skills to know precisely what code to request and the ability to spot and correct errors in the code produced\n",
    "* If you use any automatically produced code in your homework problem sets or as part of your course project, you are required to identify this code as such and include information on the prompts used to produce the code in your homework submission (similar to the fact that you should include sources for any other code that you might have found somewhere on the web and that you included as part of your solution)"
   ]
  },
  {
   "cell_type": "markdown",
   "metadata": {
    "slideshow": {
     "slide_type": "subslide"
    }
   },
   "source": [
    "## Why learn about natural language processing and machine learning?\n",
    "\n",
    "__NLP is increasingly used in Finance:__ New data sources are sought to help make better decisions, and the use of unstructured, textual data has become more common. Such data needs to be processed to create quantitative measures that can be used as inputs to quantitative models. \n",
    "\n",
    "__Machine Learning is increasingly used in Finance:__ Larger amounts of available data make it more difficult to manually choose appropriate predictors for outcomes of interest (e.g. stock returns, default of a debtor) and classic regression models overfit the data if there are many explanatory variables relative to the number of observations. Machine learning methods can help choose the predictors that matter.\n",
    "\n",
    "__Complement to the goal of learning Python:__ We need some application that can be used to help you gain more experience with Python. Applications that you aren't very familiar with yet hopefully make things more interesting and allow you to learn things beyond the programming itself."
   ]
  },
  {
   "cell_type": "markdown",
   "metadata": {
    "slideshow": {
     "slide_type": "subslide"
    }
   },
   "source": [
    "## Using Python on your laptop or PC\n",
    "\n",
    "If you haven't installed Python on your device yet, I would suggest that you install the free Anaconda distribution by downloading and running the installer for Python 3.x (right now 3.9) available here: https://www.anaconda.com/distribution/\n",
    "\n",
    "There are still two versions of Python that are actively used: 2.7 and 3. The differences are small, but they mean that codes written for the other version may not run. We will use __Python 3__ in this course."
   ]
  }
 ],
 "metadata": {
  "celltoolbar": "Slideshow",
  "kernelspec": {
   "display_name": "Python 3",
   "language": "python",
   "name": "python3"
  },
  "language_info": {
   "codemirror_mode": {
    "name": "ipython",
    "version": 3
   },
   "file_extension": ".py",
   "mimetype": "text/x-python",
   "name": "python",
   "nbconvert_exporter": "python",
   "pygments_lexer": "ipython3",
   "version": "3.7.7"
  },
  "varInspector": {
   "cols": {
    "lenName": 16,
    "lenType": 16,
    "lenVar": 40
   },
   "kernels_config": {
    "python": {
     "delete_cmd_postfix": "",
     "delete_cmd_prefix": "del ",
     "library": "var_list.py",
     "varRefreshCmd": "print(var_dic_list())"
    },
    "r": {
     "delete_cmd_postfix": ") ",
     "delete_cmd_prefix": "rm(",
     "library": "var_list.r",
     "varRefreshCmd": "cat(var_dic_list()) "
    }
   },
   "types_to_exclude": [
    "module",
    "function",
    "builtin_function_or_method",
    "instance",
    "_Feature"
   ],
   "window_display": false
  }
 },
 "nbformat": 4,
 "nbformat_minor": 4
}
